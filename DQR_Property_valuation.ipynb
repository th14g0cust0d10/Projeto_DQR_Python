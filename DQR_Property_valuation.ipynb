{
 "cells": [
  {
   "cell_type": "markdown",
   "id": "46711e02",
   "metadata": {},
   "source": [
    "# DQR – Data Quality Report"
   ]
  },
  {
   "cell_type": "markdown",
   "id": "330b50a6",
   "metadata": {},
   "source": [
    "![](https://github.com/th14g0cust0d10/imagens/blob/main/House-Valuation.png)"
   ]
  },
  {
   "cell_type": "markdown",
   "id": "22780449",
   "metadata": {},
   "source": [
    "![](HouseValuation.png)"
   ]
  },
  {
   "cell_type": "markdown",
   "id": "ad4e8569",
   "metadata": {},
   "source": [
    "*Portfólio Thiago Gonçalves Custódio*"
   ]
  },
  {
   "cell_type": "markdown",
   "id": "5f21568e",
   "metadata": {},
   "source": [
    "##  1. Definição do Problema "
   ]
  },
  {
   "cell_type": "markdown",
   "id": "f1b67f71",
   "metadata": {},
   "source": [
    "A empresa precisa de um relatório que demonstre que os dados são confiáveis \n",
    "e coerentes e que a qualidade da informação que eles oferecem pode ser usada para modelos de previsão de fraudes e valor do imóvel. Sendo assim apresentaremos um DQR – Data Quality Report"
   ]
  },
  {
   "cell_type": "markdown",
   "id": "b218df31",
   "metadata": {},
   "source": [
    "### 1.1 Informações sobre o DataSet"
   ]
  },
  {
   "cell_type": "markdown",
   "id": "1b902d00",
   "metadata": {},
   "source": [
    "Para este projeto usaremos dados reais disponíveis publicamente. Os dados podem ser \n",
    "baixados no portal de dados abertos da Cidade de Nova Iorque:\n",
    "\n",
    "https://data.cityofnewyork.us/Housing-Development/Property-Valuation-and-Assessment-Data/rgy2-tti8"
   ]
  },
  {
   "cell_type": "markdown",
   "id": "07f0077a",
   "metadata": {},
   "source": [
    "## 2. Pré-Processamento"
   ]
  },
  {
   "cell_type": "markdown",
   "id": "09a136b9",
   "metadata": {},
   "source": [
    "### 2.1 Instalando e Carregando os Pacotes"
   ]
  },
  {
   "cell_type": "code",
   "execution_count": 1,
   "id": "bedfd307",
   "metadata": {},
   "outputs": [
    {
     "name": "stdout",
     "output_type": "stream",
     "text": [
      "Author: Thiago Gonçalves Custódio\n",
      "\n",
      "seaborn   : 0.11.1\n",
      "pandas    : 1.2.2\n",
      "matplotlib: 3.4.0\n",
      "numpy     : 1.20.1\n",
      "\n"
     ]
    }
   ],
   "source": [
    "!pip install -q -U watermark\n",
    "\n",
    "# Imports\n",
    "import numpy as np\n",
    "import pandas as pd\n",
    "import matplotlib.pyplot as plt\n",
    "import seaborn as sns\n",
    "import warnings\n",
    "warnings.filterwarnings(\"ignore\")\n",
    "pd.set_option('display.float_format', lambda x : '%.2f' % x)\n",
    "%matplotlib inline\n",
    "\n",
    "# Versões dos pacotes usados neste jupyter notebook\n",
    "%reload_ext watermark\n",
    "%watermark -a \"Thiago Gonçalves Custódio\" --iversions"
   ]
  },
  {
   "cell_type": "markdown",
   "id": "d1d69c81",
   "metadata": {},
   "source": [
    "### 2.2 Carga do Dados / DataSet"
   ]
  },
  {
   "cell_type": "code",
   "execution_count": 2,
   "id": "2c94e786",
   "metadata": {},
   "outputs": [],
   "source": [
    "# Carrega os dados\n",
    "df = pd.read_csv('dados/dataset.csv', index_col = 0)"
   ]
  },
  {
   "cell_type": "markdown",
   "id": "6e6a3ce4",
   "metadata": {},
   "source": [
    "### 2.3. Análise Exploratória do DataSet"
   ]
  },
  {
   "cell_type": "code",
   "execution_count": 3,
   "id": "515f0bf9",
   "metadata": {},
   "outputs": [
    {
     "data": {
      "text/plain": [
       "(1070994, 31)"
      ]
     },
     "execution_count": 3,
     "metadata": {},
     "output_type": "execute_result"
    }
   ],
   "source": [
    "# Shape\n",
    "df.shape"
   ]
  },
  {
   "cell_type": "code",
   "execution_count": 4,
   "id": "5bb5f90b",
   "metadata": {},
   "outputs": [
    {
     "data": {
      "text/html": [
       "<div>\n",
       "<style scoped>\n",
       "    .dataframe tbody tr th:only-of-type {\n",
       "        vertical-align: middle;\n",
       "    }\n",
       "\n",
       "    .dataframe tbody tr th {\n",
       "        vertical-align: top;\n",
       "    }\n",
       "\n",
       "    .dataframe thead th {\n",
       "        text-align: right;\n",
       "    }\n",
       "</style>\n",
       "<table border=\"1\" class=\"dataframe\">\n",
       "  <thead>\n",
       "    <tr style=\"text-align: right;\">\n",
       "      <th></th>\n",
       "      <th>BBLE</th>\n",
       "      <th>B</th>\n",
       "      <th>BLOCK</th>\n",
       "      <th>LOT</th>\n",
       "      <th>EASEMENT</th>\n",
       "      <th>OWNER</th>\n",
       "      <th>BLDGCL</th>\n",
       "      <th>TAXCLASS</th>\n",
       "      <th>LTFRONT</th>\n",
       "      <th>LTDEPTH</th>\n",
       "      <th>...</th>\n",
       "      <th>BLDFRONT</th>\n",
       "      <th>BLDDEPTH</th>\n",
       "      <th>AVLAND2</th>\n",
       "      <th>AVTOT2</th>\n",
       "      <th>EXLAND2</th>\n",
       "      <th>EXTOT2</th>\n",
       "      <th>EXCD2</th>\n",
       "      <th>PERIOD</th>\n",
       "      <th>YEAR</th>\n",
       "      <th>VALTYPE</th>\n",
       "    </tr>\n",
       "    <tr>\n",
       "      <th>RECORD</th>\n",
       "      <th></th>\n",
       "      <th></th>\n",
       "      <th></th>\n",
       "      <th></th>\n",
       "      <th></th>\n",
       "      <th></th>\n",
       "      <th></th>\n",
       "      <th></th>\n",
       "      <th></th>\n",
       "      <th></th>\n",
       "      <th></th>\n",
       "      <th></th>\n",
       "      <th></th>\n",
       "      <th></th>\n",
       "      <th></th>\n",
       "      <th></th>\n",
       "      <th></th>\n",
       "      <th></th>\n",
       "      <th></th>\n",
       "      <th></th>\n",
       "      <th></th>\n",
       "    </tr>\n",
       "  </thead>\n",
       "  <tbody>\n",
       "    <tr>\n",
       "      <th>1</th>\n",
       "      <td>1000010101</td>\n",
       "      <td>1</td>\n",
       "      <td>1</td>\n",
       "      <td>101</td>\n",
       "      <td>NaN</td>\n",
       "      <td>U S GOVT LAND &amp; BLDGS</td>\n",
       "      <td>P7</td>\n",
       "      <td>4</td>\n",
       "      <td>500</td>\n",
       "      <td>1046</td>\n",
       "      <td>...</td>\n",
       "      <td>0</td>\n",
       "      <td>0</td>\n",
       "      <td>3775500.00</td>\n",
       "      <td>8613000.00</td>\n",
       "      <td>3775500.00</td>\n",
       "      <td>8613000.00</td>\n",
       "      <td>NaN</td>\n",
       "      <td>FINAL</td>\n",
       "      <td>2010/11</td>\n",
       "      <td>AC-TR</td>\n",
       "    </tr>\n",
       "    <tr>\n",
       "      <th>2</th>\n",
       "      <td>1000010201</td>\n",
       "      <td>1</td>\n",
       "      <td>1</td>\n",
       "      <td>201</td>\n",
       "      <td>NaN</td>\n",
       "      <td>U S GOVT LAND &amp; BLDGS</td>\n",
       "      <td>Z9</td>\n",
       "      <td>4</td>\n",
       "      <td>27</td>\n",
       "      <td>0</td>\n",
       "      <td>...</td>\n",
       "      <td>0</td>\n",
       "      <td>0</td>\n",
       "      <td>11111400.00</td>\n",
       "      <td>80690400.00</td>\n",
       "      <td>11111400.00</td>\n",
       "      <td>80690400.00</td>\n",
       "      <td>NaN</td>\n",
       "      <td>FINAL</td>\n",
       "      <td>2010/11</td>\n",
       "      <td>AC-TR</td>\n",
       "    </tr>\n",
       "    <tr>\n",
       "      <th>3</th>\n",
       "      <td>1000020001</td>\n",
       "      <td>1</td>\n",
       "      <td>2</td>\n",
       "      <td>1</td>\n",
       "      <td>NaN</td>\n",
       "      <td>DEPT OF GENERAL SERVI</td>\n",
       "      <td>Y7</td>\n",
       "      <td>4</td>\n",
       "      <td>709</td>\n",
       "      <td>564</td>\n",
       "      <td>...</td>\n",
       "      <td>709</td>\n",
       "      <td>564</td>\n",
       "      <td>32321790.00</td>\n",
       "      <td>40179510.00</td>\n",
       "      <td>32321790.00</td>\n",
       "      <td>40179510.00</td>\n",
       "      <td>NaN</td>\n",
       "      <td>FINAL</td>\n",
       "      <td>2010/11</td>\n",
       "      <td>AC-TR</td>\n",
       "    </tr>\n",
       "    <tr>\n",
       "      <th>4</th>\n",
       "      <td>1000020023</td>\n",
       "      <td>1</td>\n",
       "      <td>2</td>\n",
       "      <td>23</td>\n",
       "      <td>NaN</td>\n",
       "      <td>DEPARTMENT OF BUSINES</td>\n",
       "      <td>T2</td>\n",
       "      <td>4</td>\n",
       "      <td>793</td>\n",
       "      <td>551</td>\n",
       "      <td>...</td>\n",
       "      <td>85</td>\n",
       "      <td>551</td>\n",
       "      <td>13644000.00</td>\n",
       "      <td>15750000.00</td>\n",
       "      <td>13644000.00</td>\n",
       "      <td>15750000.00</td>\n",
       "      <td>NaN</td>\n",
       "      <td>FINAL</td>\n",
       "      <td>2010/11</td>\n",
       "      <td>AC-TR</td>\n",
       "    </tr>\n",
       "    <tr>\n",
       "      <th>5</th>\n",
       "      <td>1000030001</td>\n",
       "      <td>1</td>\n",
       "      <td>3</td>\n",
       "      <td>1</td>\n",
       "      <td>NaN</td>\n",
       "      <td>PARKS AND RECREATION</td>\n",
       "      <td>Q1</td>\n",
       "      <td>4</td>\n",
       "      <td>323</td>\n",
       "      <td>1260</td>\n",
       "      <td>...</td>\n",
       "      <td>89</td>\n",
       "      <td>57</td>\n",
       "      <td>106348680.00</td>\n",
       "      <td>107758350.00</td>\n",
       "      <td>106348680.00</td>\n",
       "      <td>107758350.00</td>\n",
       "      <td>NaN</td>\n",
       "      <td>FINAL</td>\n",
       "      <td>2010/11</td>\n",
       "      <td>AC-TR</td>\n",
       "    </tr>\n",
       "  </tbody>\n",
       "</table>\n",
       "<p>5 rows × 31 columns</p>\n",
       "</div>"
      ],
      "text/plain": [
       "              BBLE  B  BLOCK  LOT EASEMENT                  OWNER BLDGCL  \\\n",
       "RECORD                                                                     \n",
       "1       1000010101  1      1  101      NaN  U S GOVT LAND & BLDGS     P7   \n",
       "2       1000010201  1      1  201      NaN  U S GOVT LAND & BLDGS     Z9   \n",
       "3       1000020001  1      2    1      NaN  DEPT OF GENERAL SERVI     Y7   \n",
       "4       1000020023  1      2   23      NaN  DEPARTMENT OF BUSINES     T2   \n",
       "5       1000030001  1      3    1      NaN   PARKS AND RECREATION     Q1   \n",
       "\n",
       "       TAXCLASS  LTFRONT  LTDEPTH  ... BLDFRONT  BLDDEPTH      AVLAND2  \\\n",
       "RECORD                             ...                                   \n",
       "1             4      500     1046  ...        0         0   3775500.00   \n",
       "2             4       27        0  ...        0         0  11111400.00   \n",
       "3             4      709      564  ...      709       564  32321790.00   \n",
       "4             4      793      551  ...       85       551  13644000.00   \n",
       "5             4      323     1260  ...       89        57 106348680.00   \n",
       "\n",
       "             AVTOT2      EXLAND2       EXTOT2  EXCD2  PERIOD     YEAR  VALTYPE  \n",
       "RECORD                                                                          \n",
       "1        8613000.00   3775500.00   8613000.00    NaN   FINAL  2010/11    AC-TR  \n",
       "2       80690400.00  11111400.00  80690400.00    NaN   FINAL  2010/11    AC-TR  \n",
       "3       40179510.00  32321790.00  40179510.00    NaN   FINAL  2010/11    AC-TR  \n",
       "4       15750000.00  13644000.00  15750000.00    NaN   FINAL  2010/11    AC-TR  \n",
       "5      107758350.00 106348680.00 107758350.00    NaN   FINAL  2010/11    AC-TR  \n",
       "\n",
       "[5 rows x 31 columns]"
      ]
     },
     "execution_count": 4,
     "metadata": {},
     "output_type": "execute_result"
    }
   ],
   "source": [
    "# Visualiza amostra dos dados\n",
    "df.head()"
   ]
  },
  {
   "cell_type": "code",
   "execution_count": 5,
   "id": "35a47ef8",
   "metadata": {},
   "outputs": [
    {
     "data": {
      "text/plain": [
       "Index(['BBLE', 'B', 'BLOCK', 'LOT', 'EASEMENT', 'OWNER', 'BLDGCL', 'TAXCLASS',\n",
       "       'LTFRONT', 'LTDEPTH', 'EXT', 'STORIES', 'FULLVAL', 'AVLAND', 'AVTOT',\n",
       "       'EXLAND', 'EXTOT', 'EXCD1', 'STADDR', 'ZIP', 'EXMPTCL', 'BLDFRONT',\n",
       "       'BLDDEPTH', 'AVLAND2', 'AVTOT2', 'EXLAND2', 'EXTOT2', 'EXCD2', 'PERIOD',\n",
       "       'YEAR', 'VALTYPE'],\n",
       "      dtype='object')"
      ]
     },
     "execution_count": 5,
     "metadata": {},
     "output_type": "execute_result"
    }
   ],
   "source": [
    "# Colunas\n",
    "df.columns"
   ]
  },
  {
   "cell_type": "code",
   "execution_count": 6,
   "id": "1bbaf26c",
   "metadata": {},
   "outputs": [
    {
     "name": "stdout",
     "output_type": "stream",
     "text": [
      "Linhas:  1070994\n",
      "Colunas:  31\n",
      "\n",
      "Variáveis: \n",
      " ['BBLE', 'B', 'BLOCK', 'LOT', 'EASEMENT', 'OWNER', 'BLDGCL', 'TAXCLASS', 'LTFRONT', 'LTDEPTH', 'EXT', 'STORIES', 'FULLVAL', 'AVLAND', 'AVTOT', 'EXLAND', 'EXTOT', 'EXCD1', 'STADDR', 'ZIP', 'EXMPTCL', 'BLDFRONT', 'BLDDEPTH', 'AVLAND2', 'AVTOT2', 'EXLAND2', 'EXTOT2', 'EXCD2', 'PERIOD', 'YEAR', 'VALTYPE']\n",
      "\n",
      "Valores Ausentes: \n",
      " BBLE              0\n",
      "B                 0\n",
      "BLOCK             0\n",
      "LOT               0\n",
      "EASEMENT    1066358\n",
      "OWNER         31745\n",
      "BLDGCL            0\n",
      "TAXCLASS          0\n",
      "LTFRONT           0\n",
      "LTDEPTH           0\n",
      "EXT          716689\n",
      "STORIES       56264\n",
      "FULLVAL           0\n",
      "AVLAND            0\n",
      "AVTOT             0\n",
      "EXLAND            0\n",
      "EXTOT             0\n",
      "EXCD1        432506\n",
      "STADDR          676\n",
      "ZIP           29890\n",
      "EXMPTCL     1055415\n",
      "BLDFRONT          0\n",
      "BLDDEPTH          0\n",
      "AVLAND2      788268\n",
      "AVTOT2       788262\n",
      "EXLAND2      983545\n",
      "EXTOT2       940166\n",
      "EXCD2        978046\n",
      "PERIOD            0\n",
      "YEAR              0\n",
      "VALTYPE           0\n",
      "dtype: int64\n",
      "\n",
      "Valores Únicos: \n",
      " BBLE        1070994\n",
      "B                 5\n",
      "BLOCK         13984\n",
      "LOT            6366\n",
      "EASEMENT         12\n",
      "OWNER        863346\n",
      "BLDGCL          200\n",
      "TAXCLASS         11\n",
      "LTFRONT        1297\n",
      "LTDEPTH        1370\n",
      "EXT               3\n",
      "STORIES         111\n",
      "FULLVAL      109324\n",
      "AVLAND        70921\n",
      "AVTOT        112914\n",
      "EXLAND        33419\n",
      "EXTOT         64255\n",
      "EXCD1           129\n",
      "STADDR       839280\n",
      "ZIP             196\n",
      "EXMPTCL          14\n",
      "BLDFRONT        612\n",
      "BLDDEPTH        621\n",
      "AVLAND2       58591\n",
      "AVTOT2       111360\n",
      "EXLAND2       22195\n",
      "EXTOT2        48348\n",
      "EXCD2            60\n",
      "PERIOD            1\n",
      "YEAR              1\n",
      "VALTYPE           1\n",
      "dtype: int64\n"
     ]
    }
   ],
   "source": [
    "# Resumo\n",
    "print(\"Linhas: \", df.shape[0])\n",
    "print(\"Colunas: \", df.shape[1])\n",
    "print(\"\\nVariáveis: \\n\", df.columns.tolist())\n",
    "print(\"\\nValores Ausentes: \\n\" , df.isnull().sum())\n",
    "print(\"\\nValores Únicos: \\n\", df.nunique())"
   ]
  },
  {
   "cell_type": "code",
   "execution_count": 7,
   "id": "7eb4f7fe",
   "metadata": {},
   "outputs": [
    {
     "name": "stdout",
     "output_type": "stream",
     "text": [
      "<class 'pandas.core.frame.DataFrame'>\n",
      "Int64Index: 1070994 entries, 1 to 1070994\n",
      "Data columns (total 31 columns):\n",
      " #   Column    Non-Null Count    Dtype  \n",
      "---  ------    --------------    -----  \n",
      " 0   BBLE      1070994 non-null  object \n",
      " 1   B         1070994 non-null  int64  \n",
      " 2   BLOCK     1070994 non-null  int64  \n",
      " 3   LOT       1070994 non-null  int64  \n",
      " 4   EASEMENT  4636 non-null     object \n",
      " 5   OWNER     1039249 non-null  object \n",
      " 6   BLDGCL    1070994 non-null  object \n",
      " 7   TAXCLASS  1070994 non-null  object \n",
      " 8   LTFRONT   1070994 non-null  int64  \n",
      " 9   LTDEPTH   1070994 non-null  int64  \n",
      " 10  EXT       354305 non-null   object \n",
      " 11  STORIES   1014730 non-null  float64\n",
      " 12  FULLVAL   1070994 non-null  float64\n",
      " 13  AVLAND    1070994 non-null  float64\n",
      " 14  AVTOT     1070994 non-null  float64\n",
      " 15  EXLAND    1070994 non-null  float64\n",
      " 16  EXTOT     1070994 non-null  float64\n",
      " 17  EXCD1     638488 non-null   float64\n",
      " 18  STADDR    1070318 non-null  object \n",
      " 19  ZIP       1041104 non-null  float64\n",
      " 20  EXMPTCL   15579 non-null    object \n",
      " 21  BLDFRONT  1070994 non-null  int64  \n",
      " 22  BLDDEPTH  1070994 non-null  int64  \n",
      " 23  AVLAND2   282726 non-null   float64\n",
      " 24  AVTOT2    282732 non-null   float64\n",
      " 25  EXLAND2   87449 non-null    float64\n",
      " 26  EXTOT2    130828 non-null   float64\n",
      " 27  EXCD2     92948 non-null    float64\n",
      " 28  PERIOD    1070994 non-null  object \n",
      " 29  YEAR      1070994 non-null  object \n",
      " 30  VALTYPE   1070994 non-null  object \n",
      "dtypes: float64(13), int64(7), object(11)\n",
      "memory usage: 261.5+ MB\n"
     ]
    }
   ],
   "source": [
    "# Info\n",
    "df.info()"
   ]
  },
  {
   "cell_type": "code",
   "execution_count": 8,
   "id": "e516f45a",
   "metadata": {},
   "outputs": [],
   "source": [
    "# Colunas numéricas (quantitativas)\n",
    "num_cols = ['LTFRONT', 'LTDEPTH', 'STORIES', 'FULLVAL', 'AVLAND', 'AVTOT', 'EXLAND', 'EXTOT', 'BLDFRONT', 'BLDDEPTH', \\\n",
    "            'AVLAND2', 'AVTOT2', 'EXLAND2', 'EXTOT2']"
   ]
  },
  {
   "cell_type": "code",
   "execution_count": 9,
   "id": "0d2c7972",
   "metadata": {},
   "outputs": [],
   "source": [
    "# Colunas categóricas\n",
    "cat_cols = ['BBLE', 'B', 'BLOCK', 'LOT', 'EASEMENT', 'OWNER', 'BLDGCL', 'TAXCLASS', 'EXT', 'EXCD1', 'STADDR', 'ZIP',\\\n",
    "            'EXMPTCL', 'EXCD2', 'PERIOD', 'YEAR', 'VALTYPE']"
   ]
  },
  {
   "cell_type": "code",
   "execution_count": 10,
   "id": "7eb861de",
   "metadata": {},
   "outputs": [
    {
     "data": {
      "text/plain": [
       "True"
      ]
     },
     "execution_count": 10,
     "metadata": {},
     "output_type": "execute_result"
    }
   ],
   "source": [
    "# Verifica se o total de variáveis está coberto nos objetos anteriores\n",
    "len(num_cols) + len(cat_cols) == 31"
   ]
  },
  {
   "cell_type": "code",
   "execution_count": 11,
   "id": "90227cd2",
   "metadata": {},
   "outputs": [],
   "source": [
    "# Dataframes com os tipos diferentes de variáveis\n",
    "df_num = df[num_cols]\n",
    "df_cat = df[cat_cols]"
   ]
  },
  {
   "cell_type": "code",
   "execution_count": 12,
   "id": "bd4ff948",
   "metadata": {
    "scrolled": false
   },
   "outputs": [
    {
     "data": {
      "text/html": [
       "<div>\n",
       "<style scoped>\n",
       "    .dataframe tbody tr th:only-of-type {\n",
       "        vertical-align: middle;\n",
       "    }\n",
       "\n",
       "    .dataframe tbody tr th {\n",
       "        vertical-align: top;\n",
       "    }\n",
       "\n",
       "    .dataframe thead th {\n",
       "        text-align: right;\n",
       "    }\n",
       "</style>\n",
       "<table border=\"1\" class=\"dataframe\">\n",
       "  <thead>\n",
       "    <tr style=\"text-align: right;\">\n",
       "      <th></th>\n",
       "      <th>Tipo de Dado</th>\n",
       "      <th># Registros Não Nulos</th>\n",
       "      <th># Registros Não Zero</th>\n",
       "      <th>% Populado</th>\n",
       "      <th># Valores Únicos</th>\n",
       "      <th>Mean</th>\n",
       "      <th>Std</th>\n",
       "      <th>Min</th>\n",
       "      <th>Max</th>\n",
       "    </tr>\n",
       "  </thead>\n",
       "  <tbody>\n",
       "    <tr>\n",
       "      <th>LTFRONT</th>\n",
       "      <td>int64</td>\n",
       "      <td>1070994</td>\n",
       "      <td>901886</td>\n",
       "      <td>100.00</td>\n",
       "      <td>1297</td>\n",
       "      <td>36.64</td>\n",
       "      <td>74.03</td>\n",
       "      <td>0.00</td>\n",
       "      <td>9999.00</td>\n",
       "    </tr>\n",
       "    <tr>\n",
       "      <th>LTDEPTH</th>\n",
       "      <td>int64</td>\n",
       "      <td>1070994</td>\n",
       "      <td>900866</td>\n",
       "      <td>100.00</td>\n",
       "      <td>1370</td>\n",
       "      <td>88.86</td>\n",
       "      <td>76.40</td>\n",
       "      <td>0.00</td>\n",
       "      <td>9999.00</td>\n",
       "    </tr>\n",
       "    <tr>\n",
       "      <th>FULLVAL</th>\n",
       "      <td>float64</td>\n",
       "      <td>1070994</td>\n",
       "      <td>1057987</td>\n",
       "      <td>100.00</td>\n",
       "      <td>109324</td>\n",
       "      <td>874264.51</td>\n",
       "      <td>11582430.99</td>\n",
       "      <td>0.00</td>\n",
       "      <td>6150000000.00</td>\n",
       "    </tr>\n",
       "    <tr>\n",
       "      <th>AVLAND</th>\n",
       "      <td>float64</td>\n",
       "      <td>1070994</td>\n",
       "      <td>1057985</td>\n",
       "      <td>100.00</td>\n",
       "      <td>70921</td>\n",
       "      <td>85067.92</td>\n",
       "      <td>4057260.06</td>\n",
       "      <td>0.00</td>\n",
       "      <td>2668500000.00</td>\n",
       "    </tr>\n",
       "    <tr>\n",
       "      <th>AVTOT</th>\n",
       "      <td>float64</td>\n",
       "      <td>1070994</td>\n",
       "      <td>1057987</td>\n",
       "      <td>100.00</td>\n",
       "      <td>112914</td>\n",
       "      <td>227238.17</td>\n",
       "      <td>6877529.31</td>\n",
       "      <td>0.00</td>\n",
       "      <td>4668308947.00</td>\n",
       "    </tr>\n",
       "    <tr>\n",
       "      <th>EXLAND</th>\n",
       "      <td>float64</td>\n",
       "      <td>1070994</td>\n",
       "      <td>579295</td>\n",
       "      <td>100.00</td>\n",
       "      <td>33419</td>\n",
       "      <td>36423.89</td>\n",
       "      <td>3981575.79</td>\n",
       "      <td>0.00</td>\n",
       "      <td>2668500000.00</td>\n",
       "    </tr>\n",
       "    <tr>\n",
       "      <th>EXTOT</th>\n",
       "      <td>float64</td>\n",
       "      <td>1070994</td>\n",
       "      <td>638422</td>\n",
       "      <td>100.00</td>\n",
       "      <td>64255</td>\n",
       "      <td>91186.98</td>\n",
       "      <td>6508402.82</td>\n",
       "      <td>0.00</td>\n",
       "      <td>4668308947.00</td>\n",
       "    </tr>\n",
       "    <tr>\n",
       "      <th>BLDFRONT</th>\n",
       "      <td>int64</td>\n",
       "      <td>1070994</td>\n",
       "      <td>842179</td>\n",
       "      <td>100.00</td>\n",
       "      <td>612</td>\n",
       "      <td>23.04</td>\n",
       "      <td>35.58</td>\n",
       "      <td>0.00</td>\n",
       "      <td>7575.00</td>\n",
       "    </tr>\n",
       "    <tr>\n",
       "      <th>BLDDEPTH</th>\n",
       "      <td>int64</td>\n",
       "      <td>1070994</td>\n",
       "      <td>842141</td>\n",
       "      <td>100.00</td>\n",
       "      <td>621</td>\n",
       "      <td>39.92</td>\n",
       "      <td>42.71</td>\n",
       "      <td>0.00</td>\n",
       "      <td>9393.00</td>\n",
       "    </tr>\n",
       "    <tr>\n",
       "      <th>STORIES</th>\n",
       "      <td>float64</td>\n",
       "      <td>1014730</td>\n",
       "      <td>1070994</td>\n",
       "      <td>94.75</td>\n",
       "      <td>111</td>\n",
       "      <td>5.01</td>\n",
       "      <td>8.37</td>\n",
       "      <td>1.00</td>\n",
       "      <td>119.00</td>\n",
       "    </tr>\n",
       "    <tr>\n",
       "      <th>AVLAND2</th>\n",
       "      <td>float64</td>\n",
       "      <td>282726</td>\n",
       "      <td>1070994</td>\n",
       "      <td>26.40</td>\n",
       "      <td>58591</td>\n",
       "      <td>246235.72</td>\n",
       "      <td>6178962.56</td>\n",
       "      <td>3.00</td>\n",
       "      <td>2371005000.00</td>\n",
       "    </tr>\n",
       "    <tr>\n",
       "      <th>AVTOT2</th>\n",
       "      <td>float64</td>\n",
       "      <td>282732</td>\n",
       "      <td>1070994</td>\n",
       "      <td>26.40</td>\n",
       "      <td>111360</td>\n",
       "      <td>713911.44</td>\n",
       "      <td>11652528.95</td>\n",
       "      <td>3.00</td>\n",
       "      <td>4501180002.00</td>\n",
       "    </tr>\n",
       "    <tr>\n",
       "      <th>EXTOT2</th>\n",
       "      <td>float64</td>\n",
       "      <td>130828</td>\n",
       "      <td>1070994</td>\n",
       "      <td>12.22</td>\n",
       "      <td>48348</td>\n",
       "      <td>656768.28</td>\n",
       "      <td>16072510.17</td>\n",
       "      <td>7.00</td>\n",
       "      <td>4501180002.00</td>\n",
       "    </tr>\n",
       "    <tr>\n",
       "      <th>EXLAND2</th>\n",
       "      <td>float64</td>\n",
       "      <td>87449</td>\n",
       "      <td>1070994</td>\n",
       "      <td>8.17</td>\n",
       "      <td>22195</td>\n",
       "      <td>351235.68</td>\n",
       "      <td>10802212.67</td>\n",
       "      <td>1.00</td>\n",
       "      <td>2371005000.00</td>\n",
       "    </tr>\n",
       "  </tbody>\n",
       "</table>\n",
       "</div>"
      ],
      "text/plain": [
       "         Tipo de Dado  # Registros Não Nulos  # Registros Não Zero  \\\n",
       "LTFRONT         int64                1070994                901886   \n",
       "LTDEPTH         int64                1070994                900866   \n",
       "FULLVAL       float64                1070994               1057987   \n",
       "AVLAND        float64                1070994               1057985   \n",
       "AVTOT         float64                1070994               1057987   \n",
       "EXLAND        float64                1070994                579295   \n",
       "EXTOT         float64                1070994                638422   \n",
       "BLDFRONT        int64                1070994                842179   \n",
       "BLDDEPTH        int64                1070994                842141   \n",
       "STORIES       float64                1014730               1070994   \n",
       "AVLAND2       float64                 282726               1070994   \n",
       "AVTOT2        float64                 282732               1070994   \n",
       "EXTOT2        float64                 130828               1070994   \n",
       "EXLAND2       float64                  87449               1070994   \n",
       "\n",
       "          % Populado  # Valores Únicos      Mean         Std  Min  \\\n",
       "LTFRONT       100.00              1297     36.64       74.03 0.00   \n",
       "LTDEPTH       100.00              1370     88.86       76.40 0.00   \n",
       "FULLVAL       100.00            109324 874264.51 11582430.99 0.00   \n",
       "AVLAND        100.00             70921  85067.92  4057260.06 0.00   \n",
       "AVTOT         100.00            112914 227238.17  6877529.31 0.00   \n",
       "EXLAND        100.00             33419  36423.89  3981575.79 0.00   \n",
       "EXTOT         100.00             64255  91186.98  6508402.82 0.00   \n",
       "BLDFRONT      100.00               612     23.04       35.58 0.00   \n",
       "BLDDEPTH      100.00               621     39.92       42.71 0.00   \n",
       "STORIES        94.75               111      5.01        8.37 1.00   \n",
       "AVLAND2        26.40             58591 246235.72  6178962.56 3.00   \n",
       "AVTOT2         26.40            111360 713911.44 11652528.95 3.00   \n",
       "EXTOT2         12.22             48348 656768.28 16072510.17 7.00   \n",
       "EXLAND2         8.17             22195 351235.68 10802212.67 1.00   \n",
       "\n",
       "                   Max  \n",
       "LTFRONT        9999.00  \n",
       "LTDEPTH        9999.00  \n",
       "FULLVAL  6150000000.00  \n",
       "AVLAND   2668500000.00  \n",
       "AVTOT    4668308947.00  \n",
       "EXLAND   2668500000.00  \n",
       "EXTOT    4668308947.00  \n",
       "BLDFRONT       7575.00  \n",
       "BLDDEPTH       9393.00  \n",
       "STORIES         119.00  \n",
       "AVLAND2  2371005000.00  \n",
       "AVTOT2   4501180002.00  \n",
       "EXTOT2   4501180002.00  \n",
       "EXLAND2  2371005000.00  "
      ]
     },
     "execution_count": 12,
     "metadata": {},
     "output_type": "execute_result"
    }
   ],
   "source": [
    "# Sumário estatístico das variáveis numéricas\n",
    "summ_num = pd.DataFrame(index = df_num.columns)\n",
    "summ_num['Tipo de Dado'] = df_num.dtypes.values\n",
    "summ_num['# Registros Não Nulos'] = df_num.count().values\n",
    "summ_num['# Registros Não Zero'] = df_num.astype(bool).sum(axis = 0)\n",
    "summ_num['% Populado'] = round(summ_num['# Registros Não Nulos'] / df_num.shape[0]*100,2)\n",
    "summ_num['# Valores Únicos'] = df_num.nunique().values\n",
    "summ_num['Mean'] = round(df_num.mean(),2)\n",
    "summ_num['Std'] = round(df_num.std(),2)\n",
    "summ_num['Min'] = round(df_num.min(),2)\n",
    "summ_num['Max'] = round(df_num.max(),2)\n",
    "summ_num.sort_values(by=['% Populado'], ascending=False)"
   ]
  },
  {
   "cell_type": "markdown",
   "id": "a8e77b10",
   "metadata": {},
   "source": [
    "Observando o sumário estatístico das variáveis numéricas, percebemos 4 das 14 variáveis (28,6%) com baixo % populado."
   ]
  },
  {
   "cell_type": "code",
   "execution_count": 13,
   "id": "da4333d4",
   "metadata": {},
   "outputs": [],
   "source": [
    "# Sumário estatístico das variáveis categóricas\n",
    "summ_cat = pd.DataFrame(index = df_cat.columns)\n",
    "summ_cat['Tipo de Dado'] = df_cat.dtypes.values\n",
    "summ_cat['# Registros Não Nulos'] = df_cat.count().values\n",
    "summ_cat['% Populado'] = round(summ_cat['# Registros Não Nulos'] / df_cat.shape[0]*100,2)\n",
    "summ_cat['# Valores Únicos'] = df_cat.nunique().values"
   ]
  },
  {
   "cell_type": "code",
   "execution_count": 14,
   "id": "08e8b3d5",
   "metadata": {},
   "outputs": [],
   "source": [
    "# Adiciona mais uma coluna com valores mais comuns\n",
    "temp = []\n",
    "for col in cat_cols:\n",
    "    temp.append(df_cat[col].value_counts().idxmax())\n",
    "summ_cat['Valores Mais Comuns'] = temp"
   ]
  },
  {
   "cell_type": "code",
   "execution_count": 15,
   "id": "42ad9c3b",
   "metadata": {},
   "outputs": [
    {
     "data": {
      "text/html": [
       "<div>\n",
       "<style scoped>\n",
       "    .dataframe tbody tr th:only-of-type {\n",
       "        vertical-align: middle;\n",
       "    }\n",
       "\n",
       "    .dataframe tbody tr th {\n",
       "        vertical-align: top;\n",
       "    }\n",
       "\n",
       "    .dataframe thead th {\n",
       "        text-align: right;\n",
       "    }\n",
       "</style>\n",
       "<table border=\"1\" class=\"dataframe\">\n",
       "  <thead>\n",
       "    <tr style=\"text-align: right;\">\n",
       "      <th></th>\n",
       "      <th>Tipo de Dado</th>\n",
       "      <th># Registros Não Nulos</th>\n",
       "      <th>% Populado</th>\n",
       "      <th># Valores Únicos</th>\n",
       "      <th>Valores Mais Comuns</th>\n",
       "    </tr>\n",
       "  </thead>\n",
       "  <tbody>\n",
       "    <tr>\n",
       "      <th>BBLE</th>\n",
       "      <td>object</td>\n",
       "      <td>1070994</td>\n",
       "      <td>100.00</td>\n",
       "      <td>1070994</td>\n",
       "      <td>2039443957</td>\n",
       "    </tr>\n",
       "    <tr>\n",
       "      <th>BLDGCL</th>\n",
       "      <td>object</td>\n",
       "      <td>1070994</td>\n",
       "      <td>100.00</td>\n",
       "      <td>200</td>\n",
       "      <td>R4</td>\n",
       "    </tr>\n",
       "    <tr>\n",
       "      <th>YEAR</th>\n",
       "      <td>object</td>\n",
       "      <td>1070994</td>\n",
       "      <td>100.00</td>\n",
       "      <td>1</td>\n",
       "      <td>2010/11</td>\n",
       "    </tr>\n",
       "    <tr>\n",
       "      <th>PERIOD</th>\n",
       "      <td>object</td>\n",
       "      <td>1070994</td>\n",
       "      <td>100.00</td>\n",
       "      <td>1</td>\n",
       "      <td>FINAL</td>\n",
       "    </tr>\n",
       "    <tr>\n",
       "      <th>B</th>\n",
       "      <td>int64</td>\n",
       "      <td>1070994</td>\n",
       "      <td>100.00</td>\n",
       "      <td>5</td>\n",
       "      <td>4</td>\n",
       "    </tr>\n",
       "    <tr>\n",
       "      <th>TAXCLASS</th>\n",
       "      <td>object</td>\n",
       "      <td>1070994</td>\n",
       "      <td>100.00</td>\n",
       "      <td>11</td>\n",
       "      <td>1</td>\n",
       "    </tr>\n",
       "    <tr>\n",
       "      <th>VALTYPE</th>\n",
       "      <td>object</td>\n",
       "      <td>1070994</td>\n",
       "      <td>100.00</td>\n",
       "      <td>1</td>\n",
       "      <td>AC-TR</td>\n",
       "    </tr>\n",
       "    <tr>\n",
       "      <th>LOT</th>\n",
       "      <td>int64</td>\n",
       "      <td>1070994</td>\n",
       "      <td>100.00</td>\n",
       "      <td>6366</td>\n",
       "      <td>1</td>\n",
       "    </tr>\n",
       "    <tr>\n",
       "      <th>BLOCK</th>\n",
       "      <td>int64</td>\n",
       "      <td>1070994</td>\n",
       "      <td>100.00</td>\n",
       "      <td>13984</td>\n",
       "      <td>3944</td>\n",
       "    </tr>\n",
       "    <tr>\n",
       "      <th>STADDR</th>\n",
       "      <td>object</td>\n",
       "      <td>1070318</td>\n",
       "      <td>99.94</td>\n",
       "      <td>839280</td>\n",
       "      <td>501 SURF AVENUE</td>\n",
       "    </tr>\n",
       "    <tr>\n",
       "      <th>ZIP</th>\n",
       "      <td>float64</td>\n",
       "      <td>1041104</td>\n",
       "      <td>97.21</td>\n",
       "      <td>196</td>\n",
       "      <td>10314.0</td>\n",
       "    </tr>\n",
       "    <tr>\n",
       "      <th>OWNER</th>\n",
       "      <td>object</td>\n",
       "      <td>1039249</td>\n",
       "      <td>97.04</td>\n",
       "      <td>863346</td>\n",
       "      <td>PARKCHESTER PRESERVAT</td>\n",
       "    </tr>\n",
       "    <tr>\n",
       "      <th>EXCD1</th>\n",
       "      <td>float64</td>\n",
       "      <td>638488</td>\n",
       "      <td>59.62</td>\n",
       "      <td>129</td>\n",
       "      <td>1017.0</td>\n",
       "    </tr>\n",
       "    <tr>\n",
       "      <th>EXT</th>\n",
       "      <td>object</td>\n",
       "      <td>354305</td>\n",
       "      <td>33.08</td>\n",
       "      <td>3</td>\n",
       "      <td>G</td>\n",
       "    </tr>\n",
       "    <tr>\n",
       "      <th>EXCD2</th>\n",
       "      <td>float64</td>\n",
       "      <td>92948</td>\n",
       "      <td>8.68</td>\n",
       "      <td>60</td>\n",
       "      <td>1017.0</td>\n",
       "    </tr>\n",
       "    <tr>\n",
       "      <th>EXMPTCL</th>\n",
       "      <td>object</td>\n",
       "      <td>15579</td>\n",
       "      <td>1.45</td>\n",
       "      <td>14</td>\n",
       "      <td>X1</td>\n",
       "    </tr>\n",
       "    <tr>\n",
       "      <th>EASEMENT</th>\n",
       "      <td>object</td>\n",
       "      <td>4636</td>\n",
       "      <td>0.43</td>\n",
       "      <td>12</td>\n",
       "      <td>E</td>\n",
       "    </tr>\n",
       "  </tbody>\n",
       "</table>\n",
       "</div>"
      ],
      "text/plain": [
       "         Tipo de Dado  # Registros Não Nulos  % Populado  # Valores Únicos  \\\n",
       "BBLE           object                1070994      100.00           1070994   \n",
       "BLDGCL         object                1070994      100.00               200   \n",
       "YEAR           object                1070994      100.00                 1   \n",
       "PERIOD         object                1070994      100.00                 1   \n",
       "B               int64                1070994      100.00                 5   \n",
       "TAXCLASS       object                1070994      100.00                11   \n",
       "VALTYPE        object                1070994      100.00                 1   \n",
       "LOT             int64                1070994      100.00              6366   \n",
       "BLOCK           int64                1070994      100.00             13984   \n",
       "STADDR         object                1070318       99.94            839280   \n",
       "ZIP           float64                1041104       97.21               196   \n",
       "OWNER          object                1039249       97.04            863346   \n",
       "EXCD1         float64                 638488       59.62               129   \n",
       "EXT            object                 354305       33.08                 3   \n",
       "EXCD2         float64                  92948        8.68                60   \n",
       "EXMPTCL        object                  15579        1.45                14   \n",
       "EASEMENT       object                   4636        0.43                12   \n",
       "\n",
       "            Valores Mais Comuns  \n",
       "BBLE                 2039443957  \n",
       "BLDGCL                       R4  \n",
       "YEAR                    2010/11  \n",
       "PERIOD                    FINAL  \n",
       "B                             4  \n",
       "TAXCLASS                      1  \n",
       "VALTYPE                   AC-TR  \n",
       "LOT                           1  \n",
       "BLOCK                      3944  \n",
       "STADDR          501 SURF AVENUE  \n",
       "ZIP                     10314.0  \n",
       "OWNER     PARKCHESTER PRESERVAT  \n",
       "EXCD1                    1017.0  \n",
       "EXT                           G  \n",
       "EXCD2                    1017.0  \n",
       "EXMPTCL                      X1  \n",
       "EASEMENT                      E  "
      ]
     },
     "execution_count": 15,
     "metadata": {},
     "output_type": "execute_result"
    }
   ],
   "source": [
    "summ_cat.sort_values(by=['% Populado'], ascending=False)"
   ]
  },
  {
   "cell_type": "markdown",
   "id": "9713d433",
   "metadata": {},
   "source": [
    "Observando o sumário estatístico das variáveis categóricas, percebemos 5 das 17 variáveis (29,4%) com baixo % populado."
   ]
  },
  {
   "cell_type": "markdown",
   "id": "d6b84394",
   "metadata": {},
   "source": [
    "### 2.3.1. Identificação, Exploração e Visualização das Variáveis"
   ]
  },
  {
   "cell_type": "markdown",
   "id": "687f3bfd",
   "metadata": {},
   "source": [
    "Tendo por objetivo avaliar se o DataSet pode ser usado para modelos de previsão de fraudes e valor do imóvel, definimos por estratégia de relevância explorar a visualização apenas das variáveis acima de 90% populadas, uma vez que estratégias de imputação junto as variáveis de baixo valor populadas aqui descartadas, seria praticamente inviável."
   ]
  },
  {
   "cell_type": "code",
   "execution_count": 16,
   "id": "372a9cbd",
   "metadata": {},
   "outputs": [
    {
     "data": {
      "text/plain": [
       "Index(['BBLE', 'B', 'BLOCK', 'LOT', 'EASEMENT', 'OWNER', 'BLDGCL', 'TAXCLASS',\n",
       "       'LTFRONT', 'LTDEPTH', 'EXT', 'STORIES', 'FULLVAL', 'AVLAND', 'AVTOT',\n",
       "       'EXLAND', 'EXTOT', 'EXCD1', 'STADDR', 'ZIP', 'EXMPTCL', 'BLDFRONT',\n",
       "       'BLDDEPTH', 'AVLAND2', 'AVTOT2', 'EXLAND2', 'EXTOT2', 'EXCD2', 'PERIOD',\n",
       "       'YEAR', 'VALTYPE'],\n",
       "      dtype='object')"
      ]
     },
     "execution_count": 16,
     "metadata": {},
     "output_type": "execute_result"
    }
   ],
   "source": [
    "# Variáveis\n",
    "df.columns"
   ]
  },
  {
   "cell_type": "code",
   "execution_count": 17,
   "id": "44b84322",
   "metadata": {},
   "outputs": [
    {
     "data": {
      "text/html": [
       "<div>\n",
       "<style scoped>\n",
       "    .dataframe tbody tr th:only-of-type {\n",
       "        vertical-align: middle;\n",
       "    }\n",
       "\n",
       "    .dataframe tbody tr th {\n",
       "        vertical-align: top;\n",
       "    }\n",
       "\n",
       "    .dataframe thead th {\n",
       "        text-align: right;\n",
       "    }\n",
       "</style>\n",
       "<table border=\"1\" class=\"dataframe\">\n",
       "  <thead>\n",
       "    <tr style=\"text-align: right;\">\n",
       "      <th></th>\n",
       "      <th>BBLE</th>\n",
       "      <th>B</th>\n",
       "      <th>BLOCK</th>\n",
       "      <th>LOT</th>\n",
       "      <th>EASEMENT</th>\n",
       "      <th>OWNER</th>\n",
       "      <th>BLDGCL</th>\n",
       "      <th>TAXCLASS</th>\n",
       "      <th>LTFRONT</th>\n",
       "      <th>LTDEPTH</th>\n",
       "      <th>...</th>\n",
       "      <th>BLDFRONT</th>\n",
       "      <th>BLDDEPTH</th>\n",
       "      <th>AVLAND2</th>\n",
       "      <th>AVTOT2</th>\n",
       "      <th>EXLAND2</th>\n",
       "      <th>EXTOT2</th>\n",
       "      <th>EXCD2</th>\n",
       "      <th>PERIOD</th>\n",
       "      <th>YEAR</th>\n",
       "      <th>VALTYPE</th>\n",
       "    </tr>\n",
       "    <tr>\n",
       "      <th>RECORD</th>\n",
       "      <th></th>\n",
       "      <th></th>\n",
       "      <th></th>\n",
       "      <th></th>\n",
       "      <th></th>\n",
       "      <th></th>\n",
       "      <th></th>\n",
       "      <th></th>\n",
       "      <th></th>\n",
       "      <th></th>\n",
       "      <th></th>\n",
       "      <th></th>\n",
       "      <th></th>\n",
       "      <th></th>\n",
       "      <th></th>\n",
       "      <th></th>\n",
       "      <th></th>\n",
       "      <th></th>\n",
       "      <th></th>\n",
       "      <th></th>\n",
       "      <th></th>\n",
       "    </tr>\n",
       "  </thead>\n",
       "  <tbody>\n",
       "    <tr>\n",
       "      <th>1</th>\n",
       "      <td>1000010101</td>\n",
       "      <td>1</td>\n",
       "      <td>1</td>\n",
       "      <td>101</td>\n",
       "      <td>NaN</td>\n",
       "      <td>U S GOVT LAND &amp; BLDGS</td>\n",
       "      <td>P7</td>\n",
       "      <td>4</td>\n",
       "      <td>500</td>\n",
       "      <td>1046</td>\n",
       "      <td>...</td>\n",
       "      <td>0</td>\n",
       "      <td>0</td>\n",
       "      <td>3775500.00</td>\n",
       "      <td>8613000.00</td>\n",
       "      <td>3775500.00</td>\n",
       "      <td>8613000.00</td>\n",
       "      <td>NaN</td>\n",
       "      <td>FINAL</td>\n",
       "      <td>2010/11</td>\n",
       "      <td>AC-TR</td>\n",
       "    </tr>\n",
       "    <tr>\n",
       "      <th>2</th>\n",
       "      <td>1000010201</td>\n",
       "      <td>1</td>\n",
       "      <td>1</td>\n",
       "      <td>201</td>\n",
       "      <td>NaN</td>\n",
       "      <td>U S GOVT LAND &amp; BLDGS</td>\n",
       "      <td>Z9</td>\n",
       "      <td>4</td>\n",
       "      <td>27</td>\n",
       "      <td>0</td>\n",
       "      <td>...</td>\n",
       "      <td>0</td>\n",
       "      <td>0</td>\n",
       "      <td>11111400.00</td>\n",
       "      <td>80690400.00</td>\n",
       "      <td>11111400.00</td>\n",
       "      <td>80690400.00</td>\n",
       "      <td>NaN</td>\n",
       "      <td>FINAL</td>\n",
       "      <td>2010/11</td>\n",
       "      <td>AC-TR</td>\n",
       "    </tr>\n",
       "    <tr>\n",
       "      <th>3</th>\n",
       "      <td>1000020001</td>\n",
       "      <td>1</td>\n",
       "      <td>2</td>\n",
       "      <td>1</td>\n",
       "      <td>NaN</td>\n",
       "      <td>DEPT OF GENERAL SERVI</td>\n",
       "      <td>Y7</td>\n",
       "      <td>4</td>\n",
       "      <td>709</td>\n",
       "      <td>564</td>\n",
       "      <td>...</td>\n",
       "      <td>709</td>\n",
       "      <td>564</td>\n",
       "      <td>32321790.00</td>\n",
       "      <td>40179510.00</td>\n",
       "      <td>32321790.00</td>\n",
       "      <td>40179510.00</td>\n",
       "      <td>NaN</td>\n",
       "      <td>FINAL</td>\n",
       "      <td>2010/11</td>\n",
       "      <td>AC-TR</td>\n",
       "    </tr>\n",
       "    <tr>\n",
       "      <th>4</th>\n",
       "      <td>1000020023</td>\n",
       "      <td>1</td>\n",
       "      <td>2</td>\n",
       "      <td>23</td>\n",
       "      <td>NaN</td>\n",
       "      <td>DEPARTMENT OF BUSINES</td>\n",
       "      <td>T2</td>\n",
       "      <td>4</td>\n",
       "      <td>793</td>\n",
       "      <td>551</td>\n",
       "      <td>...</td>\n",
       "      <td>85</td>\n",
       "      <td>551</td>\n",
       "      <td>13644000.00</td>\n",
       "      <td>15750000.00</td>\n",
       "      <td>13644000.00</td>\n",
       "      <td>15750000.00</td>\n",
       "      <td>NaN</td>\n",
       "      <td>FINAL</td>\n",
       "      <td>2010/11</td>\n",
       "      <td>AC-TR</td>\n",
       "    </tr>\n",
       "    <tr>\n",
       "      <th>5</th>\n",
       "      <td>1000030001</td>\n",
       "      <td>1</td>\n",
       "      <td>3</td>\n",
       "      <td>1</td>\n",
       "      <td>NaN</td>\n",
       "      <td>PARKS AND RECREATION</td>\n",
       "      <td>Q1</td>\n",
       "      <td>4</td>\n",
       "      <td>323</td>\n",
       "      <td>1260</td>\n",
       "      <td>...</td>\n",
       "      <td>89</td>\n",
       "      <td>57</td>\n",
       "      <td>106348680.00</td>\n",
       "      <td>107758350.00</td>\n",
       "      <td>106348680.00</td>\n",
       "      <td>107758350.00</td>\n",
       "      <td>NaN</td>\n",
       "      <td>FINAL</td>\n",
       "      <td>2010/11</td>\n",
       "      <td>AC-TR</td>\n",
       "    </tr>\n",
       "  </tbody>\n",
       "</table>\n",
       "<p>5 rows × 31 columns</p>\n",
       "</div>"
      ],
      "text/plain": [
       "              BBLE  B  BLOCK  LOT EASEMENT                  OWNER BLDGCL  \\\n",
       "RECORD                                                                     \n",
       "1       1000010101  1      1  101      NaN  U S GOVT LAND & BLDGS     P7   \n",
       "2       1000010201  1      1  201      NaN  U S GOVT LAND & BLDGS     Z9   \n",
       "3       1000020001  1      2    1      NaN  DEPT OF GENERAL SERVI     Y7   \n",
       "4       1000020023  1      2   23      NaN  DEPARTMENT OF BUSINES     T2   \n",
       "5       1000030001  1      3    1      NaN   PARKS AND RECREATION     Q1   \n",
       "\n",
       "       TAXCLASS  LTFRONT  LTDEPTH  ... BLDFRONT  BLDDEPTH      AVLAND2  \\\n",
       "RECORD                             ...                                   \n",
       "1             4      500     1046  ...        0         0   3775500.00   \n",
       "2             4       27        0  ...        0         0  11111400.00   \n",
       "3             4      709      564  ...      709       564  32321790.00   \n",
       "4             4      793      551  ...       85       551  13644000.00   \n",
       "5             4      323     1260  ...       89        57 106348680.00   \n",
       "\n",
       "             AVTOT2      EXLAND2       EXTOT2  EXCD2  PERIOD     YEAR  VALTYPE  \n",
       "RECORD                                                                          \n",
       "1        8613000.00   3775500.00   8613000.00    NaN   FINAL  2010/11    AC-TR  \n",
       "2       80690400.00  11111400.00  80690400.00    NaN   FINAL  2010/11    AC-TR  \n",
       "3       40179510.00  32321790.00  40179510.00    NaN   FINAL  2010/11    AC-TR  \n",
       "4       15750000.00  13644000.00  15750000.00    NaN   FINAL  2010/11    AC-TR  \n",
       "5      107758350.00 106348680.00 107758350.00    NaN   FINAL  2010/11    AC-TR  \n",
       "\n",
       "[5 rows x 31 columns]"
      ]
     },
     "execution_count": 17,
     "metadata": {},
     "output_type": "execute_result"
    }
   ],
   "source": [
    "# Visualiza\n",
    "df.head()"
   ]
  },
  {
   "cell_type": "markdown",
   "id": "d51de733",
   "metadata": {},
   "source": [
    "**Variável 1** \\\n",
    "Nome da Variável: BBLE \\\n",
    "Descrição: Concatenação de código Borough, código de bloco, código LOT; um número exclusivo para cada registro."
   ]
  },
  {
   "cell_type": "code",
   "execution_count": 18,
   "id": "ddd99f42",
   "metadata": {},
   "outputs": [
    {
     "data": {
      "text/html": [
       "<div>\n",
       "<style scoped>\n",
       "    .dataframe tbody tr th:only-of-type {\n",
       "        vertical-align: middle;\n",
       "    }\n",
       "\n",
       "    .dataframe tbody tr th {\n",
       "        vertical-align: top;\n",
       "    }\n",
       "\n",
       "    .dataframe thead th {\n",
       "        text-align: right;\n",
       "    }\n",
       "</style>\n",
       "<table border=\"1\" class=\"dataframe\">\n",
       "  <thead>\n",
       "    <tr style=\"text-align: right;\">\n",
       "      <th></th>\n",
       "      <th>Unique_values_BBLE</th>\n",
       "      <th>Counts</th>\n",
       "    </tr>\n",
       "  </thead>\n",
       "  <tbody>\n",
       "    <tr>\n",
       "      <th>0</th>\n",
       "      <td>2039443957</td>\n",
       "      <td>1</td>\n",
       "    </tr>\n",
       "    <tr>\n",
       "      <th>1</th>\n",
       "      <td>4049910048</td>\n",
       "      <td>1</td>\n",
       "    </tr>\n",
       "    <tr>\n",
       "      <th>2</th>\n",
       "      <td>4039740089</td>\n",
       "      <td>1</td>\n",
       "    </tr>\n",
       "    <tr>\n",
       "      <th>3</th>\n",
       "      <td>5024522064</td>\n",
       "      <td>1</td>\n",
       "    </tr>\n",
       "    <tr>\n",
       "      <th>4</th>\n",
       "      <td>3084790025</td>\n",
       "      <td>1</td>\n",
       "    </tr>\n",
       "    <tr>\n",
       "      <th>5</th>\n",
       "      <td>3008300012</td>\n",
       "      <td>1</td>\n",
       "    </tr>\n",
       "    <tr>\n",
       "      <th>6</th>\n",
       "      <td>1020941110</td>\n",
       "      <td>1</td>\n",
       "    </tr>\n",
       "    <tr>\n",
       "      <th>7</th>\n",
       "      <td>3062490051</td>\n",
       "      <td>1</td>\n",
       "    </tr>\n",
       "    <tr>\n",
       "      <th>8</th>\n",
       "      <td>2024500121</td>\n",
       "      <td>1</td>\n",
       "    </tr>\n",
       "    <tr>\n",
       "      <th>9</th>\n",
       "      <td>5065800043</td>\n",
       "      <td>1</td>\n",
       "    </tr>\n",
       "  </tbody>\n",
       "</table>\n",
       "</div>"
      ],
      "text/plain": [
       "  Unique_values_BBLE  Counts\n",
       "0         2039443957       1\n",
       "1         4049910048       1\n",
       "2         4039740089       1\n",
       "3         5024522064       1\n",
       "4         3084790025       1\n",
       "5         3008300012       1\n",
       "6         1020941110       1\n",
       "7         3062490051       1\n",
       "8         2024500121       1\n",
       "9         5065800043       1"
      ]
     },
     "execution_count": 18,
     "metadata": {},
     "output_type": "execute_result"
    }
   ],
   "source": [
    "# Contagem\n",
    "BBLE = df_cat['BBLE'].value_counts().rename_axis('Unique_values_BBLE').reset_index(name = 'Counts')\n",
    "BBLE[:10]"
   ]
  },
  {
   "cell_type": "markdown",
   "id": "865c196c",
   "metadata": {},
   "source": [
    "**Variável 2** \\\n",
    "Nome da Variável: B \\\n",
    "Descrição: Códigos Borough "
   ]
  },
  {
   "cell_type": "code",
   "execution_count": 19,
   "id": "61c88fce",
   "metadata": {},
   "outputs": [
    {
     "data": {
      "text/plain": [
       "Text(0.5, 1.0, 'Número de Propriedades em Diferentes Bairros')"
      ]
     },
     "execution_count": 19,
     "metadata": {},
     "output_type": "execute_result"
    },
    {
     "data": {
      "image/png": "[encoded data removed]",
      "text/plain": [
       "<Figure size 864x432 with 1 Axes>"
      ]
     },
     "metadata": {},
     "output_type": "display_data"
    }
   ],
   "source": [
    "# Visualização da variável 2\n",
    "sns.set_theme(style = 'whitegrid')\n",
    "plt.figure(figsize = (12, 6))\n",
    "fig1 = sns.countplot(x = 'B', data = df, order = df['B'].value_counts().index)\n",
    "plt.title(\"Número de Propriedades em Diferentes Bairros\")"
   ]
  },
  {
   "cell_type": "markdown",
   "id": "d1c72b5d",
   "metadata": {},
   "source": [
    "**Variável 3** \\\n",
    "Nome da Variável: BLOCK \\\n",
    "Descrição: Número de até 5 dígitos que representam códigos de bloco em diferentes bairros"
   ]
  },
  {
   "cell_type": "code",
   "execution_count": 20,
   "id": "e5b18599",
   "metadata": {},
   "outputs": [
    {
     "data": {
      "text/html": [
       "<div>\n",
       "<style scoped>\n",
       "    .dataframe tbody tr th:only-of-type {\n",
       "        vertical-align: middle;\n",
       "    }\n",
       "\n",
       "    .dataframe tbody tr th {\n",
       "        vertical-align: top;\n",
       "    }\n",
       "\n",
       "    .dataframe thead th {\n",
       "        text-align: right;\n",
       "    }\n",
       "</style>\n",
       "<table border=\"1\" class=\"dataframe\">\n",
       "  <thead>\n",
       "    <tr style=\"text-align: right;\">\n",
       "      <th></th>\n",
       "      <th>Unique_values_BLOCK</th>\n",
       "      <th>Counts</th>\n",
       "    </tr>\n",
       "  </thead>\n",
       "  <tbody>\n",
       "    <tr>\n",
       "      <th>0</th>\n",
       "      <td>3944</td>\n",
       "      <td>3888</td>\n",
       "    </tr>\n",
       "    <tr>\n",
       "      <th>1</th>\n",
       "      <td>16</td>\n",
       "      <td>3786</td>\n",
       "    </tr>\n",
       "    <tr>\n",
       "      <th>2</th>\n",
       "      <td>3943</td>\n",
       "      <td>3424</td>\n",
       "    </tr>\n",
       "    <tr>\n",
       "      <th>3</th>\n",
       "      <td>3938</td>\n",
       "      <td>2794</td>\n",
       "    </tr>\n",
       "    <tr>\n",
       "      <th>4</th>\n",
       "      <td>1171</td>\n",
       "      <td>2535</td>\n",
       "    </tr>\n",
       "    <tr>\n",
       "      <th>5</th>\n",
       "      <td>3937</td>\n",
       "      <td>2275</td>\n",
       "    </tr>\n",
       "    <tr>\n",
       "      <th>6</th>\n",
       "      <td>1833</td>\n",
       "      <td>1774</td>\n",
       "    </tr>\n",
       "    <tr>\n",
       "      <th>7</th>\n",
       "      <td>2450</td>\n",
       "      <td>1651</td>\n",
       "    </tr>\n",
       "    <tr>\n",
       "      <th>8</th>\n",
       "      <td>1047</td>\n",
       "      <td>1480</td>\n",
       "    </tr>\n",
       "    <tr>\n",
       "      <th>9</th>\n",
       "      <td>7279</td>\n",
       "      <td>1302</td>\n",
       "    </tr>\n",
       "  </tbody>\n",
       "</table>\n",
       "</div>"
      ],
      "text/plain": [
       "   Unique_values_BLOCK  Counts\n",
       "0                 3944    3888\n",
       "1                   16    3786\n",
       "2                 3943    3424\n",
       "3                 3938    2794\n",
       "4                 1171    2535\n",
       "5                 3937    2275\n",
       "6                 1833    1774\n",
       "7                 2450    1651\n",
       "8                 1047    1480\n",
       "9                 7279    1302"
      ]
     },
     "execution_count": 20,
     "metadata": {},
     "output_type": "execute_result"
    }
   ],
   "source": [
    "# Contagem\n",
    "BLOCK = df_cat['BLOCK'].value_counts().rename_axis('Unique_values_BLOCK').reset_index(name = 'Counts')\n",
    "BLOCK[:10]"
   ]
  },
  {
   "cell_type": "markdown",
   "id": "6a785a62",
   "metadata": {},
   "source": [
    "**Variável 4** \\\n",
    "Nome da Variável: LOT \\\n",
    "Descrição: Número de até 4 dígitos que representam códigos de lote em diferentes Borough & Block"
   ]
  },
  {
   "cell_type": "code",
   "execution_count": 21,
   "id": "b48a1ea4",
   "metadata": {},
   "outputs": [
    {
     "data": {
      "text/html": [
       "<div>\n",
       "<style scoped>\n",
       "    .dataframe tbody tr th:only-of-type {\n",
       "        vertical-align: middle;\n",
       "    }\n",
       "\n",
       "    .dataframe tbody tr th {\n",
       "        vertical-align: top;\n",
       "    }\n",
       "\n",
       "    .dataframe thead th {\n",
       "        text-align: right;\n",
       "    }\n",
       "</style>\n",
       "<table border=\"1\" class=\"dataframe\">\n",
       "  <thead>\n",
       "    <tr style=\"text-align: right;\">\n",
       "      <th></th>\n",
       "      <th>Unique_values_LOT</th>\n",
       "      <th>Counts</th>\n",
       "    </tr>\n",
       "  </thead>\n",
       "  <tbody>\n",
       "    <tr>\n",
       "      <th>0</th>\n",
       "      <td>1</td>\n",
       "      <td>24367</td>\n",
       "    </tr>\n",
       "    <tr>\n",
       "      <th>1</th>\n",
       "      <td>20</td>\n",
       "      <td>12294</td>\n",
       "    </tr>\n",
       "    <tr>\n",
       "      <th>2</th>\n",
       "      <td>15</td>\n",
       "      <td>12171</td>\n",
       "    </tr>\n",
       "    <tr>\n",
       "      <th>3</th>\n",
       "      <td>12</td>\n",
       "      <td>12143</td>\n",
       "    </tr>\n",
       "    <tr>\n",
       "      <th>4</th>\n",
       "      <td>14</td>\n",
       "      <td>12074</td>\n",
       "    </tr>\n",
       "    <tr>\n",
       "      <th>5</th>\n",
       "      <td>16</td>\n",
       "      <td>12042</td>\n",
       "    </tr>\n",
       "    <tr>\n",
       "      <th>6</th>\n",
       "      <td>17</td>\n",
       "      <td>11982</td>\n",
       "    </tr>\n",
       "    <tr>\n",
       "      <th>7</th>\n",
       "      <td>18</td>\n",
       "      <td>11979</td>\n",
       "    </tr>\n",
       "    <tr>\n",
       "      <th>8</th>\n",
       "      <td>25</td>\n",
       "      <td>11949</td>\n",
       "    </tr>\n",
       "    <tr>\n",
       "      <th>9</th>\n",
       "      <td>21</td>\n",
       "      <td>11840</td>\n",
       "    </tr>\n",
       "  </tbody>\n",
       "</table>\n",
       "</div>"
      ],
      "text/plain": [
       "   Unique_values_LOT  Counts\n",
       "0                  1   24367\n",
       "1                 20   12294\n",
       "2                 15   12171\n",
       "3                 12   12143\n",
       "4                 14   12074\n",
       "5                 16   12042\n",
       "6                 17   11982\n",
       "7                 18   11979\n",
       "8                 25   11949\n",
       "9                 21   11840"
      ]
     },
     "execution_count": 21,
     "metadata": {},
     "output_type": "execute_result"
    }
   ],
   "source": [
    "# Contagem\n",
    "LOT = df_cat['LOT'].value_counts().rename_axis('Unique_values_LOT').reset_index(name = 'Counts')[:15]\n",
    "LOT[:10]"
   ]
  },
  {
   "cell_type": "markdown",
   "id": "4b729141",
   "metadata": {},
   "source": [
    "**Variável 5** \\\n",
    "Nome da Variável: OWNER \\\n",
    "Descrição: Proprietários dos imóveis"
   ]
  },
  {
   "cell_type": "code",
   "execution_count": 22,
   "id": "5e0bd0e9",
   "metadata": {},
   "outputs": [],
   "source": [
    "# Contagem\n",
    "OWNER = df_cat['OWNER'].value_counts().rename_axis('Unique_values_OWNER').reset_index(name = 'Counts')"
   ]
  },
  {
   "cell_type": "code",
   "execution_count": 23,
   "id": "76ee7fc0",
   "metadata": {},
   "outputs": [
    {
     "data": {
      "text/html": [
       "<div>\n",
       "<style scoped>\n",
       "    .dataframe tbody tr th:only-of-type {\n",
       "        vertical-align: middle;\n",
       "    }\n",
       "\n",
       "    .dataframe tbody tr th {\n",
       "        vertical-align: top;\n",
       "    }\n",
       "\n",
       "    .dataframe thead th {\n",
       "        text-align: right;\n",
       "    }\n",
       "</style>\n",
       "<table border=\"1\" class=\"dataframe\">\n",
       "  <thead>\n",
       "    <tr style=\"text-align: right;\">\n",
       "      <th></th>\n",
       "      <th>Unique_values_OWNER</th>\n",
       "      <th>Counts</th>\n",
       "    </tr>\n",
       "  </thead>\n",
       "  <tbody>\n",
       "    <tr>\n",
       "      <th>0</th>\n",
       "      <td>PARKCHESTER PRESERVAT</td>\n",
       "      <td>6020</td>\n",
       "    </tr>\n",
       "    <tr>\n",
       "      <th>1</th>\n",
       "      <td>PARKS AND RECREATION</td>\n",
       "      <td>4255</td>\n",
       "    </tr>\n",
       "    <tr>\n",
       "      <th>2</th>\n",
       "      <td>DCAS</td>\n",
       "      <td>2169</td>\n",
       "    </tr>\n",
       "    <tr>\n",
       "      <th>3</th>\n",
       "      <td>HOUSING PRESERVATION</td>\n",
       "      <td>1904</td>\n",
       "    </tr>\n",
       "    <tr>\n",
       "      <th>4</th>\n",
       "      <td>CITY OF NEW YORK</td>\n",
       "      <td>1450</td>\n",
       "    </tr>\n",
       "  </tbody>\n",
       "</table>\n",
       "</div>"
      ],
      "text/plain": [
       "     Unique_values_OWNER  Counts\n",
       "0  PARKCHESTER PRESERVAT    6020\n",
       "1   PARKS AND RECREATION    4255\n",
       "2                   DCAS    2169\n",
       "3   HOUSING PRESERVATION    1904\n",
       "4       CITY OF NEW YORK    1450"
      ]
     },
     "execution_count": 23,
     "metadata": {},
     "output_type": "execute_result"
    }
   ],
   "source": [
    "OWNER.head()"
   ]
  },
  {
   "cell_type": "code",
   "execution_count": 24,
   "id": "34b8396e",
   "metadata": {},
   "outputs": [
    {
     "data": {
      "text/html": [
       "<div>\n",
       "<style scoped>\n",
       "    .dataframe tbody tr th:only-of-type {\n",
       "        vertical-align: middle;\n",
       "    }\n",
       "\n",
       "    .dataframe tbody tr th {\n",
       "        vertical-align: top;\n",
       "    }\n",
       "\n",
       "    .dataframe thead th {\n",
       "        text-align: right;\n",
       "    }\n",
       "</style>\n",
       "<table border=\"1\" class=\"dataframe\">\n",
       "  <thead>\n",
       "    <tr style=\"text-align: right;\">\n",
       "      <th></th>\n",
       "      <th>Unique_values_OWNER</th>\n",
       "      <th>Counts</th>\n",
       "    </tr>\n",
       "  </thead>\n",
       "  <tbody>\n",
       "    <tr>\n",
       "      <th>863341</th>\n",
       "      <td>SCOGNAMIGLIO JOHN</td>\n",
       "      <td>1</td>\n",
       "    </tr>\n",
       "    <tr>\n",
       "      <th>863342</th>\n",
       "      <td>ROBERTS BARBARA</td>\n",
       "      <td>1</td>\n",
       "    </tr>\n",
       "    <tr>\n",
       "      <th>863343</th>\n",
       "      <td>TOMICI ILDE</td>\n",
       "      <td>1</td>\n",
       "    </tr>\n",
       "    <tr>\n",
       "      <th>863344</th>\n",
       "      <td>LARDAS REV JOHN</td>\n",
       "      <td>1</td>\n",
       "    </tr>\n",
       "    <tr>\n",
       "      <th>863345</th>\n",
       "      <td>JASMINE PALMER</td>\n",
       "      <td>1</td>\n",
       "    </tr>\n",
       "  </tbody>\n",
       "</table>\n",
       "</div>"
      ],
      "text/plain": [
       "       Unique_values_OWNER  Counts\n",
       "863341   SCOGNAMIGLIO JOHN       1\n",
       "863342     ROBERTS BARBARA       1\n",
       "863343         TOMICI ILDE       1\n",
       "863344     LARDAS REV JOHN       1\n",
       "863345      JASMINE PALMER       1"
      ]
     },
     "execution_count": 24,
     "metadata": {},
     "output_type": "execute_result"
    }
   ],
   "source": [
    "OWNER.tail()"
   ]
  },
  {
   "cell_type": "markdown",
   "id": "08f88f92",
   "metadata": {},
   "source": [
    "**Variável 6** \\\n",
    "Nome da Variável: BLDGCL \\\n",
    "Descrição: Classe do imóvel"
   ]
  },
  {
   "cell_type": "code",
   "execution_count": 25,
   "id": "7f371047",
   "metadata": {},
   "outputs": [],
   "source": [
    "# Contagem\n",
    "BLDGCL = df_cat['BLDGCL'].value_counts().rename_axis('Unique_values_BLDCGL').reset_index(name = 'Counts')"
   ]
  },
  {
   "cell_type": "code",
   "execution_count": 26,
   "id": "8ad9797c",
   "metadata": {},
   "outputs": [
    {
     "data": {
      "text/html": [
       "<div>\n",
       "<style scoped>\n",
       "    .dataframe tbody tr th:only-of-type {\n",
       "        vertical-align: middle;\n",
       "    }\n",
       "\n",
       "    .dataframe tbody tr th {\n",
       "        vertical-align: top;\n",
       "    }\n",
       "\n",
       "    .dataframe thead th {\n",
       "        text-align: right;\n",
       "    }\n",
       "</style>\n",
       "<table border=\"1\" class=\"dataframe\">\n",
       "  <thead>\n",
       "    <tr style=\"text-align: right;\">\n",
       "      <th></th>\n",
       "      <th>Unique_values_BLDCGL</th>\n",
       "      <th>Counts</th>\n",
       "    </tr>\n",
       "  </thead>\n",
       "  <tbody>\n",
       "    <tr>\n",
       "      <th>0</th>\n",
       "      <td>R4</td>\n",
       "      <td>139879</td>\n",
       "    </tr>\n",
       "    <tr>\n",
       "      <th>1</th>\n",
       "      <td>A1</td>\n",
       "      <td>123369</td>\n",
       "    </tr>\n",
       "    <tr>\n",
       "      <th>2</th>\n",
       "      <td>A5</td>\n",
       "      <td>96984</td>\n",
       "    </tr>\n",
       "    <tr>\n",
       "      <th>3</th>\n",
       "      <td>B1</td>\n",
       "      <td>84208</td>\n",
       "    </tr>\n",
       "    <tr>\n",
       "      <th>4</th>\n",
       "      <td>B2</td>\n",
       "      <td>77598</td>\n",
       "    </tr>\n",
       "  </tbody>\n",
       "</table>\n",
       "</div>"
      ],
      "text/plain": [
       "  Unique_values_BLDCGL  Counts\n",
       "0                   R4  139879\n",
       "1                   A1  123369\n",
       "2                   A5   96984\n",
       "3                   B1   84208\n",
       "4                   B2   77598"
      ]
     },
     "execution_count": 26,
     "metadata": {},
     "output_type": "execute_result"
    }
   ],
   "source": [
    "BLDGCL.head()"
   ]
  },
  {
   "cell_type": "code",
   "execution_count": 27,
   "id": "a2f39c02",
   "metadata": {},
   "outputs": [
    {
     "data": {
      "text/html": [
       "<div>\n",
       "<style scoped>\n",
       "    .dataframe tbody tr th:only-of-type {\n",
       "        vertical-align: middle;\n",
       "    }\n",
       "\n",
       "    .dataframe tbody tr th {\n",
       "        vertical-align: top;\n",
       "    }\n",
       "\n",
       "    .dataframe thead th {\n",
       "        text-align: right;\n",
       "    }\n",
       "</style>\n",
       "<table border=\"1\" class=\"dataframe\">\n",
       "  <thead>\n",
       "    <tr style=\"text-align: right;\">\n",
       "      <th></th>\n",
       "      <th>Unique_values_BLDCGL</th>\n",
       "      <th>Counts</th>\n",
       "    </tr>\n",
       "  </thead>\n",
       "  <tbody>\n",
       "    <tr>\n",
       "      <th>195</th>\n",
       "      <td>I3</td>\n",
       "      <td>4</td>\n",
       "    </tr>\n",
       "    <tr>\n",
       "      <th>196</th>\n",
       "      <td>I2</td>\n",
       "      <td>4</td>\n",
       "    </tr>\n",
       "    <tr>\n",
       "      <th>197</th>\n",
       "      <td>H7</td>\n",
       "      <td>3</td>\n",
       "    </tr>\n",
       "    <tr>\n",
       "      <th>198</th>\n",
       "      <td>Y5</td>\n",
       "      <td>1</td>\n",
       "    </tr>\n",
       "    <tr>\n",
       "      <th>199</th>\n",
       "      <td>E6</td>\n",
       "      <td>1</td>\n",
       "    </tr>\n",
       "  </tbody>\n",
       "</table>\n",
       "</div>"
      ],
      "text/plain": [
       "    Unique_values_BLDCGL  Counts\n",
       "195                   I3       4\n",
       "196                   I2       4\n",
       "197                   H7       3\n",
       "198                   Y5       1\n",
       "199                   E6       1"
      ]
     },
     "execution_count": 27,
     "metadata": {},
     "output_type": "execute_result"
    }
   ],
   "source": [
    "BLDGCL.tail()"
   ]
  },
  {
   "cell_type": "markdown",
   "id": "dd33bd88",
   "metadata": {},
   "source": [
    "**Variável 7** \\\n",
    "Nome da Variável: TAXCLASS \\\n",
    "Descrição: Código de classe de imposto de propriedade"
   ]
  },
  {
   "cell_type": "code",
   "execution_count": 28,
   "id": "a318e78e",
   "metadata": {},
   "outputs": [
    {
     "data": {
      "text/plain": [
       "Text(0.5, 1.0, 'Número de Propriedades com Vários Tipos de Classe')"
      ]
     },
     "execution_count": 28,
     "metadata": {},
     "output_type": "execute_result"
    },
    {
     "data": {
      "image/png": "[encoded data removed]",
      "text/plain": [
       "<Figure size 1008x432 with 1 Axes>"
      ]
     },
     "metadata": {},
     "output_type": "display_data"
    }
   ],
   "source": [
    "# Visualização da variável 7\n",
    "sns.set_theme(style = 'whitegrid')\n",
    "plt.figure(figsize = (14, 6))\n",
    "fig3 = sns.countplot(x = 'TAXCLASS', data = df, order = df['TAXCLASS'].value_counts().index)\n",
    "fig3.set_yscale(\"log\")\n",
    "fig3.set_title('Número de Propriedades com Vários Tipos de Classe')"
   ]
  },
  {
   "cell_type": "markdown",
   "id": "f1ac780f",
   "metadata": {},
   "source": [
    "**Variável 8** \\\n",
    "Nome da Variável: LTFRONT \\\n",
    "Descrição: Frente do lote em pés (feet)"
   ]
  },
  {
   "cell_type": "code",
   "execution_count": 29,
   "id": "12d83bfb",
   "metadata": {},
   "outputs": [
    {
     "data": {
      "text/plain": [
       "count   1070994.00\n",
       "mean         36.64\n",
       "std          74.03\n",
       "min           0.00\n",
       "50%          25.00\n",
       "75%          40.00\n",
       "99.5%       375.00\n",
       "max        9999.00\n",
       "Name: LTFRONT, dtype: float64"
      ]
     },
     "execution_count": 29,
     "metadata": {},
     "output_type": "execute_result"
    }
   ],
   "source": [
    "# Divide em percentis\n",
    "df['LTFRONT'].describe(percentiles = [0.5,0.75,0.995])"
   ]
  },
  {
   "cell_type": "code",
   "execution_count": 30,
   "id": "8eef9ef1",
   "metadata": {},
   "outputs": [],
   "source": [
    "# Filtra por valores iguais ou menores que 375\n",
    "tmp = df[df['LTFRONT'] <= 375]"
   ]
  },
  {
   "cell_type": "code",
   "execution_count": 31,
   "id": "e7db7520",
   "metadata": {},
   "outputs": [
    {
     "data": {
      "text/plain": [
       "Text(0.5, 1.0, 'Distribuição da Variável LTFRONT')"
      ]
     },
     "execution_count": 31,
     "metadata": {},
     "output_type": "execute_result"
    },
    {
     "data": {
      "image/png": "[encoded data removed]",
      "text/plain": [
       "<Figure size 720x360 with 1 Axes>"
      ]
     },
     "metadata": {},
     "output_type": "display_data"
    }
   ],
   "source": [
    "# Visualização da variável 9\n",
    "sns.set_theme(style = 'whitegrid')\n",
    "plt.figure(figsize = (10, 5))\n",
    "fig4 = sns.distplot(tmp.LTFRONT, bins = 50)\n",
    "fig4.set_title('Distribuição da Variável LTFRONT')"
   ]
  },
  {
   "cell_type": "markdown",
   "id": "0c29c3bc",
   "metadata": {},
   "source": [
    "**Variável 9** \\\n",
    "Nome da Variável: LTDEPTH \\\n",
    "Descrição: Profundidade do lote em pés (feet)"
   ]
  },
  {
   "cell_type": "code",
   "execution_count": 32,
   "id": "a387cf01",
   "metadata": {},
   "outputs": [
    {
     "data": {
      "text/plain": [
       "count    1070994.00\n",
       "mean          88.86\n",
       "std           76.40\n",
       "min            0.00\n",
       "18%           49.00\n",
       "25%           80.00\n",
       "40%          100.00\n",
       "50%          100.00\n",
       "83%          101.00\n",
       "98%          200.00\n",
       "99.95%      1056.50\n",
       "max         9999.00\n",
       "Name: LTDEPTH, dtype: float64"
      ]
     },
     "execution_count": 32,
     "metadata": {},
     "output_type": "execute_result"
    }
   ],
   "source": [
    "# Divide em percentis\n",
    "df['LTDEPTH'].describe(percentiles = [0.18,0.25,0.4,0.83,0.98,0.9995])"
   ]
  },
  {
   "cell_type": "code",
   "execution_count": 33,
   "id": "1ac2eaa4",
   "metadata": {},
   "outputs": [],
   "source": [
    "# Filtra por valores iguais ou menores que 425\n",
    "tmp = df[df['LTDEPTH'] <= 425]"
   ]
  },
  {
   "cell_type": "code",
   "execution_count": 34,
   "id": "195123de",
   "metadata": {},
   "outputs": [
    {
     "data": {
      "text/plain": [
       "Text(0.5, 1.0, 'Distribuição da Variável LTDEPTH')"
      ]
     },
     "execution_count": 34,
     "metadata": {},
     "output_type": "execute_result"
    },
    {
     "data": {
      "image/png": "[encoded data removed]",
      "text/plain": [
       "<Figure size 864x432 with 1 Axes>"
      ]
     },
     "metadata": {},
     "output_type": "display_data"
    }
   ],
   "source": [
    "# Visualização da variável 10\n",
    "sns.set_theme(style = 'whitegrid')\n",
    "plt.figure(figsize = (12, 6))\n",
    "fig5 = sns.distplot(tmp.LTDEPTH, bins = 50)\n",
    "fig5.set_yscale(\"log\")\n",
    "fig5.set_title('Distribuição da Variável LTDEPTH')"
   ]
  },
  {
   "cell_type": "markdown",
   "id": "2379b7bc",
   "metadata": {},
   "source": [
    "**Variável 10**  \\\n",
    "Nome da Variável: STORIES \\\n",
    "Descrição: Número de andares do edifício"
   ]
  },
  {
   "cell_type": "code",
   "execution_count": 35,
   "id": "46152e95",
   "metadata": {},
   "outputs": [
    {
     "data": {
      "text/plain": [
       "count   1014730.00\n",
       "mean          5.01\n",
       "std           8.37\n",
       "min           1.00\n",
       "50%           2.00\n",
       "75%           3.00\n",
       "99.5%        50.00\n",
       "max         119.00\n",
       "Name: STORIES, dtype: float64"
      ]
     },
     "execution_count": 35,
     "metadata": {},
     "output_type": "execute_result"
    }
   ],
   "source": [
    "# Divide em percentis\n",
    "df['STORIES'].describe(percentiles = [0.5,0.75,0.995])"
   ]
  },
  {
   "cell_type": "code",
   "execution_count": 36,
   "id": "06f223c7",
   "metadata": {},
   "outputs": [],
   "source": [
    "# Filtra \n",
    "tmp = df[df['STORIES'] <= 50]"
   ]
  },
  {
   "cell_type": "code",
   "execution_count": 37,
   "id": "f8554bf4",
   "metadata": {},
   "outputs": [
    {
     "data": {
      "text/plain": [
       "Text(0.5, 1.0, 'Distribuição de Andares das Propriedades')"
      ]
     },
     "execution_count": 37,
     "metadata": {},
     "output_type": "execute_result"
    },
    {
     "data": {
      "image/png": "[encoded data removed]",
      "text/plain": [
       "<Figure size 864x432 with 1 Axes>"
      ]
     },
     "metadata": {},
     "output_type": "display_data"
    }
   ],
   "source": [
    "# Visualização da variável 12\n",
    "sns.set_theme(style = 'whitegrid')\n",
    "plt.figure(figsize = (12, 6))\n",
    "fig7 = sns.distplot(tmp['STORIES'], kde = False, bins = 50)\n",
    "fig7.set_yscale('log', basey = 2)\n",
    "fig7.set_title('Distribuição de Andares das Propriedades')"
   ]
  },
  {
   "cell_type": "markdown",
   "id": "a37d8a40",
   "metadata": {},
   "source": [
    "**Variável 11** \\\n",
    "Nome da Variável: FULLVAL \\\n",
    "Descrição: Valor de Mercado Total"
   ]
  },
  {
   "cell_type": "code",
   "execution_count": 38,
   "id": "aa4bed18",
   "metadata": {},
   "outputs": [
    {
     "data": {
      "text/plain": [
       "count      1070994.00\n",
       "mean        874264.51\n",
       "std       11582430.99\n",
       "min              0.00\n",
       "50%         447000.00\n",
       "75%         619000.00\n",
       "95%        1530000.00\n",
       "max     6150000000.00\n",
       "Name: FULLVAL, dtype: float64"
      ]
     },
     "execution_count": 38,
     "metadata": {},
     "output_type": "execute_result"
    }
   ],
   "source": [
    "# Divide em percentis\n",
    "df['FULLVAL'].describe(percentiles = [0.5,0.75,0.95])"
   ]
  },
  {
   "cell_type": "code",
   "execution_count": 39,
   "id": "5a60129f",
   "metadata": {},
   "outputs": [
    {
     "data": {
      "text/plain": [
       "RECORD\n",
       "1    21400000.00\n",
       "2   193800000.00\n",
       "3   104686000.00\n",
       "4    39200000.00\n",
       "5   272300000.00\n",
       "Name: FULLVAL, dtype: float64"
      ]
     },
     "execution_count": 39,
     "metadata": {},
     "output_type": "execute_result"
    }
   ],
   "source": [
    "# Visualiza os dados\n",
    "df['FULLVAL'].head()"
   ]
  },
  {
   "cell_type": "code",
   "execution_count": 40,
   "id": "874a2c48",
   "metadata": {},
   "outputs": [],
   "source": [
    "# Filtra os dados para simplificar a visualização e evitar valores extremos\n",
    "tmp = df[df['FULLVAL'] <= 3000000]"
   ]
  },
  {
   "cell_type": "code",
   "execution_count": 41,
   "id": "382ad1af",
   "metadata": {},
   "outputs": [
    {
     "data": {
      "text/plain": [
       "Text(0.5, 1.0, 'Distribuição do Valor de Mercado Total das Propriedades')"
      ]
     },
     "execution_count": 41,
     "metadata": {},
     "output_type": "execute_result"
    },
    {
     "data": {
      "image/png": "[encoded data removed]",
      "text/plain": [
       "<Figure size 864x576 with 1 Axes>"
      ]
     },
     "metadata": {},
     "output_type": "display_data"
    }
   ],
   "source": [
    "# Visualização da variável 11\n",
    "dimensoes = (12, 8)\n",
    "fig, ax = plt.subplots(figsize = dimensoes)\n",
    "fig8 = sns.distplot(tmp.FULLVAL, kde = False, bins = 70)\n",
    "fig8.set_title('Distribuição do Valor de Mercado Total das Propriedades')"
   ]
  },
  {
   "cell_type": "markdown",
   "id": "9ac5407d",
   "metadata": {},
   "source": [
    "**Variável 12** \\\n",
    "Nome da Variável: AVLAND \\\n",
    "Descrição: Valor de mercado do terreno"
   ]
  },
  {
   "cell_type": "code",
   "execution_count": 42,
   "id": "8d708513",
   "metadata": {},
   "outputs": [
    {
     "data": {
      "text/plain": [
       "count      1070994.00\n",
       "mean         85067.92\n",
       "std        4057260.06\n",
       "min              0.00\n",
       "50%          13678.00\n",
       "75%          19740.00\n",
       "95%         131388.75\n",
       "max     2668500000.00\n",
       "Name: AVLAND, dtype: float64"
      ]
     },
     "execution_count": 42,
     "metadata": {},
     "output_type": "execute_result"
    }
   ],
   "source": [
    "# Divide em percentis\n",
    "df['AVLAND'].describe(percentiles = [0.5,0.75,0.95])"
   ]
  },
  {
   "cell_type": "code",
   "execution_count": 43,
   "id": "2085f18a",
   "metadata": {},
   "outputs": [],
   "source": [
    "# Filtra os dados\n",
    "tmp = df[df['AVLAND'] <= 50000]"
   ]
  },
  {
   "cell_type": "code",
   "execution_count": 44,
   "id": "c1657e8d",
   "metadata": {},
   "outputs": [
    {
     "data": {
      "text/plain": [
       "Text(0.5, 1.0, 'Distribuição do Valor de Mercado do Terreno')"
      ]
     },
     "execution_count": 44,
     "metadata": {},
     "output_type": "execute_result"
    },
    {
     "data": {
      "image/png": "[encoded data removed]",
      "text/plain": [
       "<Figure size 864x576 with 1 Axes>"
      ]
     },
     "metadata": {},
     "output_type": "display_data"
    }
   ],
   "source": [
    "# Visualização da variável 12\n",
    "dimensoes = (12, 8)\n",
    "fig, ax = plt.subplots(figsize = dimensoes)\n",
    "fig9 = sns.distplot(tmp.AVLAND, kde = False, bins = 80)\n",
    "fig9.set_title('Distribuição do Valor de Mercado do Terreno')"
   ]
  },
  {
   "cell_type": "markdown",
   "id": "08cfe979",
   "metadata": {},
   "source": [
    "**Variável 13** \\\n",
    "Nome da Variável: AVTOT \\\n",
    "Descrição: Valor Total"
   ]
  },
  {
   "cell_type": "code",
   "execution_count": 45,
   "id": "f8372e55",
   "metadata": {},
   "outputs": [
    {
     "data": {
      "text/plain": [
       "count      1070994.00\n",
       "mean        227238.17\n",
       "std        6877529.31\n",
       "min              0.00\n",
       "50%          25340.00\n",
       "75%          45438.00\n",
       "95%         405000.00\n",
       "max     4668308947.00\n",
       "Name: AVTOT, dtype: float64"
      ]
     },
     "execution_count": 45,
     "metadata": {},
     "output_type": "execute_result"
    }
   ],
   "source": [
    "# Divide em percentis\n",
    "df['AVTOT'].describe(percentiles = [0.5,0.75,0.95])"
   ]
  },
  {
   "cell_type": "code",
   "execution_count": 46,
   "id": "da667f3e",
   "metadata": {},
   "outputs": [],
   "source": [
    "# Filtra os dados\n",
    "tmp = df[df['AVTOT'] <= 500000]"
   ]
  },
  {
   "cell_type": "code",
   "execution_count": 47,
   "id": "822fc638",
   "metadata": {},
   "outputs": [
    {
     "data": {
      "text/plain": [
       "Text(0.5, 1.0, 'Distribuição da Variável AVTOT ')"
      ]
     },
     "execution_count": 47,
     "metadata": {},
     "output_type": "execute_result"
    },
    {
     "data": {
      "image/png": "[encoded data removed]",
      "text/plain": [
       "<Figure size 864x576 with 1 Axes>"
      ]
     },
     "metadata": {},
     "output_type": "display_data"
    }
   ],
   "source": [
    "# Visualização da variável 13\n",
    "dimensoes = (12, 8)\n",
    "fig, ax = plt.subplots(figsize = dimensoes)\n",
    "fig9 = sns.distplot(tmp.AVTOT, kde = False, bins = 80)\n",
    "fig9.set_title('Distribuição da Variável AVTOT ')"
   ]
  },
  {
   "cell_type": "markdown",
   "id": "ce72e339",
   "metadata": {},
   "source": [
    "**Variável 14** \\\n",
    "Nome da Variável: EXLAND \\\n",
    "Descrição: Valor provisório do terreno com isenção temporária"
   ]
  },
  {
   "cell_type": "code",
   "execution_count": 48,
   "id": "96d34bd2",
   "metadata": {},
   "outputs": [
    {
     "data": {
      "text/plain": [
       "count      1070994.00\n",
       "mean         36423.89\n",
       "std        3981575.79\n",
       "min              0.00\n",
       "50%           1620.00\n",
       "75%           1620.00\n",
       "95%          14489.00\n",
       "max     2668500000.00\n",
       "Name: EXLAND, dtype: float64"
      ]
     },
     "execution_count": 48,
     "metadata": {},
     "output_type": "execute_result"
    }
   ],
   "source": [
    "# Divide em percentis\n",
    "df['EXLAND'].describe(percentiles = [0.5,0.75,0.95])"
   ]
  },
  {
   "cell_type": "code",
   "execution_count": 49,
   "id": "12f84203",
   "metadata": {},
   "outputs": [],
   "source": [
    "# Filtro\n",
    "tmp = df[df['EXLAND'] <= 50000]"
   ]
  },
  {
   "cell_type": "code",
   "execution_count": 50,
   "id": "86aaa4d3",
   "metadata": {},
   "outputs": [
    {
     "data": {
      "text/plain": [
       "Text(0.5, 1.0, 'Valor Provisório do Terreno com Isenção Temporária')"
      ]
     },
     "execution_count": 50,
     "metadata": {},
     "output_type": "execute_result"
    },
    {
     "data": {
      "image/png": "[encoded data removed]",
      "text/plain": [
       "<Figure size 1008x576 with 1 Axes>"
      ]
     },
     "metadata": {},
     "output_type": "display_data"
    }
   ],
   "source": [
    "# Visualização da variável 14\n",
    "dimensoes = (14, 8)\n",
    "fig, ax = plt.subplots(figsize = dimensoes)\n",
    "fig11 = sns.distplot(tmp.EXLAND, kde = False, bins = 100)\n",
    "fig11.set_yscale('log', basey = 2)\n",
    "fig11.set_title('Valor Provisório do Terreno com Isenção Temporária')"
   ]
  },
  {
   "cell_type": "markdown",
   "id": "6d193672",
   "metadata": {},
   "source": [
    "**Variável 15** \\\n",
    "Nome da Variável: EXTOT \\\n",
    "Descrição: Valor total do terreno com isenção temporária"
   ]
  },
  {
   "cell_type": "code",
   "execution_count": 51,
   "id": "0f765db3",
   "metadata": {},
   "outputs": [
    {
     "data": {
      "text/plain": [
       "count      1070994.00\n",
       "mean         91186.98\n",
       "std        6508402.82\n",
       "min              0.00\n",
       "50%           1620.00\n",
       "75%           2090.00\n",
       "95%          61420.40\n",
       "max     4668308947.00\n",
       "Name: EXTOT, dtype: float64"
      ]
     },
     "execution_count": 51,
     "metadata": {},
     "output_type": "execute_result"
    }
   ],
   "source": [
    "# Divide em percentis\n",
    "df['EXTOT'].describe(percentiles = [0.5,0.75,0.95])"
   ]
  },
  {
   "cell_type": "code",
   "execution_count": 52,
   "id": "84e695ad",
   "metadata": {},
   "outputs": [],
   "source": [
    "# Filtro\n",
    "tmp = df[df['EXTOT'] <= 500000]"
   ]
  },
  {
   "cell_type": "code",
   "execution_count": 53,
   "id": "cc57feda",
   "metadata": {},
   "outputs": [
    {
     "data": {
      "text/plain": [
       "Text(0.5, 1.0, 'Distribuição da Variável EXTOT')"
      ]
     },
     "execution_count": 53,
     "metadata": {},
     "output_type": "execute_result"
    },
    {
     "data": {
      "image/png": "[encoded data removed]",
      "text/plain": [
       "<Figure size 1008x576 with 1 Axes>"
      ]
     },
     "metadata": {},
     "output_type": "display_data"
    }
   ],
   "source": [
    "# Visualização da variável 15\n",
    "dimensoes = (14, 8)\n",
    "fig, ax = plt.subplots(figsize = dimensoes)\n",
    "fig11 = sns.distplot(tmp.EXTOT, kde = False, bins = 100)\n",
    "fig11.set_yscale('log', basey = 2)\n",
    "fig11.set_title('Distribuição da Variável EXTOT')"
   ]
  },
  {
   "cell_type": "markdown",
   "id": "d265d4d6",
   "metadata": {},
   "source": [
    "**Variável 16** \\\n",
    "Nome da Variável: STADDR \\\n",
    "Descrição: Endereço das propriedades"
   ]
  },
  {
   "cell_type": "code",
   "execution_count": 54,
   "id": "5029019d",
   "metadata": {},
   "outputs": [
    {
     "data": {
      "text/html": [
       "<div>\n",
       "<style scoped>\n",
       "    .dataframe tbody tr th:only-of-type {\n",
       "        vertical-align: middle;\n",
       "    }\n",
       "\n",
       "    .dataframe tbody tr th {\n",
       "        vertical-align: top;\n",
       "    }\n",
       "\n",
       "    .dataframe thead th {\n",
       "        text-align: right;\n",
       "    }\n",
       "</style>\n",
       "<table border=\"1\" class=\"dataframe\">\n",
       "  <thead>\n",
       "    <tr style=\"text-align: right;\">\n",
       "      <th></th>\n",
       "      <th>Unique_values_STADDR</th>\n",
       "      <th>Counts</th>\n",
       "    </tr>\n",
       "  </thead>\n",
       "  <tbody>\n",
       "    <tr>\n",
       "      <th>0</th>\n",
       "      <td>501 SURF AVENUE</td>\n",
       "      <td>902</td>\n",
       "    </tr>\n",
       "    <tr>\n",
       "      <th>1</th>\n",
       "      <td>330 EAST 38 STREET</td>\n",
       "      <td>817</td>\n",
       "    </tr>\n",
       "    <tr>\n",
       "      <th>2</th>\n",
       "      <td>322 WEST 57 STREET</td>\n",
       "      <td>720</td>\n",
       "    </tr>\n",
       "    <tr>\n",
       "      <th>3</th>\n",
       "      <td>155 WEST 68 STREET</td>\n",
       "      <td>671</td>\n",
       "    </tr>\n",
       "    <tr>\n",
       "      <th>4</th>\n",
       "      <td>20 WEST 64 STREET</td>\n",
       "      <td>657</td>\n",
       "    </tr>\n",
       "    <tr>\n",
       "      <th>5</th>\n",
       "      <td>1 IRVING PLACE</td>\n",
       "      <td>650</td>\n",
       "    </tr>\n",
       "    <tr>\n",
       "      <th>6</th>\n",
       "      <td>220 RIVERSIDE BOULEVARD</td>\n",
       "      <td>628</td>\n",
       "    </tr>\n",
       "    <tr>\n",
       "      <th>7</th>\n",
       "      <td>360 FURMAN STREET</td>\n",
       "      <td>599</td>\n",
       "    </tr>\n",
       "    <tr>\n",
       "      <th>8</th>\n",
       "      <td>200 EAST 66 STREET</td>\n",
       "      <td>585</td>\n",
       "    </tr>\n",
       "    <tr>\n",
       "      <th>9</th>\n",
       "      <td>30 WEST 63 STREET</td>\n",
       "      <td>562</td>\n",
       "    </tr>\n",
       "  </tbody>\n",
       "</table>\n",
       "</div>"
      ],
      "text/plain": [
       "      Unique_values_STADDR  Counts\n",
       "0          501 SURF AVENUE     902\n",
       "1       330 EAST 38 STREET     817\n",
       "2       322 WEST 57 STREET     720\n",
       "3       155 WEST 68 STREET     671\n",
       "4        20 WEST 64 STREET     657\n",
       "5           1 IRVING PLACE     650\n",
       "6  220 RIVERSIDE BOULEVARD     628\n",
       "7        360 FURMAN STREET     599\n",
       "8       200 EAST 66 STREET     585\n",
       "9        30 WEST 63 STREET     562"
      ]
     },
     "execution_count": 54,
     "metadata": {},
     "output_type": "execute_result"
    }
   ],
   "source": [
    "# Contagem\n",
    "STADDR = df_cat['STADDR'].value_counts().rename_axis('Unique_values_STADDR').reset_index(name = 'Counts')\n",
    "STADDR[:10]"
   ]
  },
  {
   "cell_type": "markdown",
   "id": "543e18bb",
   "metadata": {},
   "source": [
    "**Variável 17** \\\n",
    "Nome da Variável: ZIP \\\n",
    "Descrição: Código postal das propriedades"
   ]
  },
  {
   "cell_type": "code",
   "execution_count": 55,
   "id": "dc0e4250",
   "metadata": {},
   "outputs": [
    {
     "data": {
      "text/html": [
       "<div>\n",
       "<style scoped>\n",
       "    .dataframe tbody tr th:only-of-type {\n",
       "        vertical-align: middle;\n",
       "    }\n",
       "\n",
       "    .dataframe tbody tr th {\n",
       "        vertical-align: top;\n",
       "    }\n",
       "\n",
       "    .dataframe thead th {\n",
       "        text-align: right;\n",
       "    }\n",
       "</style>\n",
       "<table border=\"1\" class=\"dataframe\">\n",
       "  <thead>\n",
       "    <tr style=\"text-align: right;\">\n",
       "      <th></th>\n",
       "      <th>Unique_values_ZIP</th>\n",
       "      <th>Counts</th>\n",
       "    </tr>\n",
       "  </thead>\n",
       "  <tbody>\n",
       "    <tr>\n",
       "      <th>0</th>\n",
       "      <td>10314.00</td>\n",
       "      <td>24606</td>\n",
       "    </tr>\n",
       "    <tr>\n",
       "      <th>1</th>\n",
       "      <td>11234.00</td>\n",
       "      <td>20001</td>\n",
       "    </tr>\n",
       "    <tr>\n",
       "      <th>2</th>\n",
       "      <td>10312.00</td>\n",
       "      <td>18127</td>\n",
       "    </tr>\n",
       "    <tr>\n",
       "      <th>3</th>\n",
       "      <td>10462.00</td>\n",
       "      <td>16905</td>\n",
       "    </tr>\n",
       "    <tr>\n",
       "      <th>4</th>\n",
       "      <td>10306.00</td>\n",
       "      <td>16578</td>\n",
       "    </tr>\n",
       "    <tr>\n",
       "      <th>5</th>\n",
       "      <td>11236.00</td>\n",
       "      <td>15678</td>\n",
       "    </tr>\n",
       "    <tr>\n",
       "      <th>6</th>\n",
       "      <td>11385.00</td>\n",
       "      <td>14921</td>\n",
       "    </tr>\n",
       "    <tr>\n",
       "      <th>7</th>\n",
       "      <td>11229.00</td>\n",
       "      <td>12793</td>\n",
       "    </tr>\n",
       "    <tr>\n",
       "      <th>8</th>\n",
       "      <td>11211.00</td>\n",
       "      <td>12710</td>\n",
       "    </tr>\n",
       "    <tr>\n",
       "      <th>9</th>\n",
       "      <td>11207.00</td>\n",
       "      <td>12293</td>\n",
       "    </tr>\n",
       "  </tbody>\n",
       "</table>\n",
       "</div>"
      ],
      "text/plain": [
       "   Unique_values_ZIP  Counts\n",
       "0           10314.00   24606\n",
       "1           11234.00   20001\n",
       "2           10312.00   18127\n",
       "3           10462.00   16905\n",
       "4           10306.00   16578\n",
       "5           11236.00   15678\n",
       "6           11385.00   14921\n",
       "7           11229.00   12793\n",
       "8           11211.00   12710\n",
       "9           11207.00   12293"
      ]
     },
     "execution_count": 55,
     "metadata": {},
     "output_type": "execute_result"
    }
   ],
   "source": [
    "# Contagem\n",
    "ZIP = df_cat['ZIP'].value_counts().rename_axis('Unique_values_ZIP').reset_index(name = 'Counts')\n",
    "ZIP[:10]"
   ]
  },
  {
   "cell_type": "markdown",
   "id": "21e2550c",
   "metadata": {},
   "source": [
    "**Variável 18** \\\n",
    "Nome da Variável: BLDFRONT \\\n",
    "Descrição: Frente do lote em pés."
   ]
  },
  {
   "cell_type": "code",
   "execution_count": 56,
   "id": "d35ac5ba",
   "metadata": {},
   "outputs": [
    {
     "data": {
      "text/plain": [
       "count   1070994.00\n",
       "mean         23.04\n",
       "std          35.58\n",
       "min           0.00\n",
       "50%          20.00\n",
       "75%          24.00\n",
       "95%          63.00\n",
       "max        7575.00\n",
       "Name: BLDFRONT, dtype: float64"
      ]
     },
     "execution_count": 56,
     "metadata": {},
     "output_type": "execute_result"
    }
   ],
   "source": [
    "# Divide em percentis\n",
    "df['BLDFRONT'].describe(percentiles = [0.5,0.75,0.95])"
   ]
  },
  {
   "cell_type": "code",
   "execution_count": 57,
   "id": "b880e75f",
   "metadata": {},
   "outputs": [],
   "source": [
    "# Filtro\n",
    "tmp = df[df['BLDFRONT'] <= 20000]"
   ]
  },
  {
   "cell_type": "code",
   "execution_count": 58,
   "id": "5b97e681",
   "metadata": {},
   "outputs": [
    {
     "data": {
      "text/plain": [
       "Text(0.5, 1.0, 'Distribuição da Variável BLDFRONT')"
      ]
     },
     "execution_count": 58,
     "metadata": {},
     "output_type": "execute_result"
    },
    {
     "data": {
      "image/png": "[encoded data removed]",
      "text/plain": [
       "<Figure size 1008x576 with 1 Axes>"
      ]
     },
     "metadata": {},
     "output_type": "display_data"
    }
   ],
   "source": [
    "# Visualização da variável 18\n",
    "dimensoes = (14, 8)\n",
    "fig, ax = plt.subplots(figsize = dimensoes)\n",
    "fig11 = sns.distplot(tmp.BLDFRONT, kde = False, bins = 100)\n",
    "fig11.set_yscale('log', basey = 2)\n",
    "fig11.set_title('Distribuição da Variável BLDFRONT')"
   ]
  },
  {
   "cell_type": "markdown",
   "id": "a42de55e",
   "metadata": {},
   "source": [
    "**Variável 19** \\\n",
    "Nome da Variável: BLDDEPTH \\\n",
    "Descrição: Profundidade do lote em pés."
   ]
  },
  {
   "cell_type": "code",
   "execution_count": 59,
   "id": "a02b429f",
   "metadata": {},
   "outputs": [
    {
     "data": {
      "text/plain": [
       "count   1070994.00\n",
       "mean         39.92\n",
       "std          42.71\n",
       "min           0.00\n",
       "50%          39.00\n",
       "75%          50.00\n",
       "95%          90.00\n",
       "max        9393.00\n",
       "Name: BLDDEPTH, dtype: float64"
      ]
     },
     "execution_count": 59,
     "metadata": {},
     "output_type": "execute_result"
    }
   ],
   "source": [
    "# Divide em percentis\n",
    "df['BLDDEPTH'].describe(percentiles = [0.5,0.75,0.95])"
   ]
  },
  {
   "cell_type": "code",
   "execution_count": 60,
   "id": "dc190ae8",
   "metadata": {},
   "outputs": [],
   "source": [
    "# Filtro\n",
    "tmp = df[df['BLDDEPTH'] <= 20000]"
   ]
  },
  {
   "cell_type": "code",
   "execution_count": 61,
   "id": "e956f2f2",
   "metadata": {},
   "outputs": [
    {
     "data": {
      "text/plain": [
       "Text(0.5, 1.0, 'Distribuição da Variável BLDDEPTH ')"
      ]
     },
     "execution_count": 61,
     "metadata": {},
     "output_type": "execute_result"
    },
    {
     "data": {
      "image/png": "[encoded data removed]",
      "text/plain": [
       "<Figure size 1008x576 with 1 Axes>"
      ]
     },
     "metadata": {},
     "output_type": "display_data"
    }
   ],
   "source": [
    "# Visualização da variável 19\n",
    "dimensoes = (14, 8)\n",
    "fig, ax = plt.subplots(figsize = dimensoes)\n",
    "fig11 = sns.distplot(tmp.BLDDEPTH, kde = False, bins = 100)\n",
    "fig11.set_yscale('log', basey = 2)\n",
    "fig11.set_title('Distribuição da Variável BLDDEPTH ')"
   ]
  },
  {
   "cell_type": "markdown",
   "id": "d97fb3b0",
   "metadata": {},
   "source": [
    "## 3. Limpeza e Transformação dos Dados"
   ]
  },
  {
   "cell_type": "markdown",
   "id": "b2b10002",
   "metadata": {},
   "source": [
    "Nesta etapa entregaremos uma rotina de limpeza das variáveis STADDR, OWNER, STORIES e uma estratégia de transformação / imputação nos valores ausentes da variável ZIP com objetivo de demonstração de possibilidade / alternativa de data munging/wrangling."
   ]
  },
  {
   "cell_type": "code",
   "execution_count": 62,
   "id": "a3db205a",
   "metadata": {},
   "outputs": [],
   "source": [
    "# Vamos trabalhar com uma cópia do dataframe descartando das variáveis abaixo de 90% populadas\n",
    "df_temp = df.copy()"
   ]
  },
  {
   "cell_type": "code",
   "execution_count": 63,
   "id": "35372369",
   "metadata": {},
   "outputs": [],
   "source": [
    "# Lista das variáveis abaixo de 90% populadas\n",
    "columns = ['AVLAND2','AVTOT2','EXTOT2','EXLAND2','EXCD1','EXT','EXCD2','EXMPTCL','EASEMENT']"
   ]
  },
  {
   "cell_type": "code",
   "execution_count": 64,
   "id": "def26dd3",
   "metadata": {},
   "outputs": [],
   "source": [
    "# Descarte das variáveis abaixo de 90% populadas\n",
    "df_temp = df.drop(columns, axis=1)"
   ]
  },
  {
   "cell_type": "code",
   "execution_count": 65,
   "id": "d99eb685",
   "metadata": {},
   "outputs": [
    {
     "data": {
      "text/html": [
       "<div>\n",
       "<style scoped>\n",
       "    .dataframe tbody tr th:only-of-type {\n",
       "        vertical-align: middle;\n",
       "    }\n",
       "\n",
       "    .dataframe tbody tr th {\n",
       "        vertical-align: top;\n",
       "    }\n",
       "\n",
       "    .dataframe thead th {\n",
       "        text-align: right;\n",
       "    }\n",
       "</style>\n",
       "<table border=\"1\" class=\"dataframe\">\n",
       "  <thead>\n",
       "    <tr style=\"text-align: right;\">\n",
       "      <th></th>\n",
       "      <th>Tipo de Dado</th>\n",
       "      <th># Registros Não Nulos</th>\n",
       "      <th>% Populado</th>\n",
       "      <th># Valores Únicos</th>\n",
       "    </tr>\n",
       "  </thead>\n",
       "  <tbody>\n",
       "    <tr>\n",
       "      <th>BBLE</th>\n",
       "      <td>object</td>\n",
       "      <td>1070994</td>\n",
       "      <td>100.00</td>\n",
       "      <td>1070994</td>\n",
       "    </tr>\n",
       "    <tr>\n",
       "      <th>FULLVAL</th>\n",
       "      <td>float64</td>\n",
       "      <td>1070994</td>\n",
       "      <td>100.00</td>\n",
       "      <td>109324</td>\n",
       "    </tr>\n",
       "    <tr>\n",
       "      <th>YEAR</th>\n",
       "      <td>object</td>\n",
       "      <td>1070994</td>\n",
       "      <td>100.00</td>\n",
       "      <td>1</td>\n",
       "    </tr>\n",
       "    <tr>\n",
       "      <th>PERIOD</th>\n",
       "      <td>object</td>\n",
       "      <td>1070994</td>\n",
       "      <td>100.00</td>\n",
       "      <td>1</td>\n",
       "    </tr>\n",
       "    <tr>\n",
       "      <th>BLDDEPTH</th>\n",
       "      <td>int64</td>\n",
       "      <td>1070994</td>\n",
       "      <td>100.00</td>\n",
       "      <td>621</td>\n",
       "    </tr>\n",
       "    <tr>\n",
       "      <th>BLDFRONT</th>\n",
       "      <td>int64</td>\n",
       "      <td>1070994</td>\n",
       "      <td>100.00</td>\n",
       "      <td>612</td>\n",
       "    </tr>\n",
       "    <tr>\n",
       "      <th>EXTOT</th>\n",
       "      <td>float64</td>\n",
       "      <td>1070994</td>\n",
       "      <td>100.00</td>\n",
       "      <td>64255</td>\n",
       "    </tr>\n",
       "    <tr>\n",
       "      <th>EXLAND</th>\n",
       "      <td>float64</td>\n",
       "      <td>1070994</td>\n",
       "      <td>100.00</td>\n",
       "      <td>33419</td>\n",
       "    </tr>\n",
       "    <tr>\n",
       "      <th>AVTOT</th>\n",
       "      <td>float64</td>\n",
       "      <td>1070994</td>\n",
       "      <td>100.00</td>\n",
       "      <td>112914</td>\n",
       "    </tr>\n",
       "    <tr>\n",
       "      <th>B</th>\n",
       "      <td>int64</td>\n",
       "      <td>1070994</td>\n",
       "      <td>100.00</td>\n",
       "      <td>5</td>\n",
       "    </tr>\n",
       "    <tr>\n",
       "      <th>AVLAND</th>\n",
       "      <td>float64</td>\n",
       "      <td>1070994</td>\n",
       "      <td>100.00</td>\n",
       "      <td>70921</td>\n",
       "    </tr>\n",
       "    <tr>\n",
       "      <th>LTDEPTH</th>\n",
       "      <td>int64</td>\n",
       "      <td>1070994</td>\n",
       "      <td>100.00</td>\n",
       "      <td>1370</td>\n",
       "    </tr>\n",
       "    <tr>\n",
       "      <th>LTFRONT</th>\n",
       "      <td>int64</td>\n",
       "      <td>1070994</td>\n",
       "      <td>100.00</td>\n",
       "      <td>1297</td>\n",
       "    </tr>\n",
       "    <tr>\n",
       "      <th>TAXCLASS</th>\n",
       "      <td>object</td>\n",
       "      <td>1070994</td>\n",
       "      <td>100.00</td>\n",
       "      <td>11</td>\n",
       "    </tr>\n",
       "    <tr>\n",
       "      <th>BLDGCL</th>\n",
       "      <td>object</td>\n",
       "      <td>1070994</td>\n",
       "      <td>100.00</td>\n",
       "      <td>200</td>\n",
       "    </tr>\n",
       "    <tr>\n",
       "      <th>LOT</th>\n",
       "      <td>int64</td>\n",
       "      <td>1070994</td>\n",
       "      <td>100.00</td>\n",
       "      <td>6366</td>\n",
       "    </tr>\n",
       "    <tr>\n",
       "      <th>BLOCK</th>\n",
       "      <td>int64</td>\n",
       "      <td>1070994</td>\n",
       "      <td>100.00</td>\n",
       "      <td>13984</td>\n",
       "    </tr>\n",
       "    <tr>\n",
       "      <th>VALTYPE</th>\n",
       "      <td>object</td>\n",
       "      <td>1070994</td>\n",
       "      <td>100.00</td>\n",
       "      <td>1</td>\n",
       "    </tr>\n",
       "    <tr>\n",
       "      <th>STADDR</th>\n",
       "      <td>object</td>\n",
       "      <td>1070318</td>\n",
       "      <td>99.94</td>\n",
       "      <td>839280</td>\n",
       "    </tr>\n",
       "    <tr>\n",
       "      <th>ZIP</th>\n",
       "      <td>float64</td>\n",
       "      <td>1041104</td>\n",
       "      <td>97.21</td>\n",
       "      <td>196</td>\n",
       "    </tr>\n",
       "    <tr>\n",
       "      <th>OWNER</th>\n",
       "      <td>object</td>\n",
       "      <td>1039249</td>\n",
       "      <td>97.04</td>\n",
       "      <td>863346</td>\n",
       "    </tr>\n",
       "    <tr>\n",
       "      <th>STORIES</th>\n",
       "      <td>float64</td>\n",
       "      <td>1014730</td>\n",
       "      <td>94.75</td>\n",
       "      <td>111</td>\n",
       "    </tr>\n",
       "  </tbody>\n",
       "</table>\n",
       "</div>"
      ],
      "text/plain": [
       "         Tipo de Dado  # Registros Não Nulos  % Populado  # Valores Únicos\n",
       "BBLE           object                1070994      100.00           1070994\n",
       "FULLVAL       float64                1070994      100.00            109324\n",
       "YEAR           object                1070994      100.00                 1\n",
       "PERIOD         object                1070994      100.00                 1\n",
       "BLDDEPTH        int64                1070994      100.00               621\n",
       "BLDFRONT        int64                1070994      100.00               612\n",
       "EXTOT         float64                1070994      100.00             64255\n",
       "EXLAND        float64                1070994      100.00             33419\n",
       "AVTOT         float64                1070994      100.00            112914\n",
       "B               int64                1070994      100.00                 5\n",
       "AVLAND        float64                1070994      100.00             70921\n",
       "LTDEPTH         int64                1070994      100.00              1370\n",
       "LTFRONT         int64                1070994      100.00              1297\n",
       "TAXCLASS       object                1070994      100.00                11\n",
       "BLDGCL         object                1070994      100.00               200\n",
       "LOT             int64                1070994      100.00              6366\n",
       "BLOCK           int64                1070994      100.00             13984\n",
       "VALTYPE        object                1070994      100.00                 1\n",
       "STADDR         object                1070318       99.94            839280\n",
       "ZIP           float64                1041104       97.21               196\n",
       "OWNER          object                1039249       97.04            863346\n",
       "STORIES       float64                1014730       94.75               111"
      ]
     },
     "execution_count": 65,
     "metadata": {},
     "output_type": "execute_result"
    }
   ],
   "source": [
    "# Sumário após descarte de variaveis abaixo de 90% populadas\n",
    "summ_df = pd.DataFrame(index = df_temp.columns)\n",
    "summ_df['Tipo de Dado'] = df_temp.dtypes.values\n",
    "summ_df['# Registros Não Nulos'] = df_temp.count().values\n",
    "summ_df['% Populado'] = round(summ_df['# Registros Não Nulos'] / df_temp.shape[0]*100,2)\n",
    "summ_df['# Valores Únicos'] = df_temp.nunique().values\n",
    "summ_df.sort_values(by=['% Populado'], ascending=False)"
   ]
  },
  {
   "cell_type": "markdown",
   "id": "9928d3bf",
   "metadata": {},
   "source": [
    "### 3.1. Limpeza dos Valores Ausentes das Variáveis STADDR, OWNER e STORIES"
   ]
  },
  {
   "cell_type": "code",
   "execution_count": 66,
   "id": "7972a8c3",
   "metadata": {},
   "outputs": [],
   "source": [
    "# Definindo a lista de variáveis a serem limpas\n",
    "list_clean = ['STADDR', 'OWNER', 'STORIES']"
   ]
  },
  {
   "cell_type": "code",
   "execution_count": 67,
   "id": "55f0b519",
   "metadata": {},
   "outputs": [
    {
     "name": "stdout",
     "output_type": "stream",
     "text": [
      "STADDR --> Número de valores ausentes: 676\n",
      "OWNER --> Número de valores ausentes: 31745\n",
      "STORIES --> Número de valores ausentes: 56264\n"
     ]
    }
   ],
   "source": [
    "# Contando o número de valores NA para cada uma das variáveis\n",
    "for i in list_clean:\n",
    "    print(i, \"--> Número de valores ausentes:\", df_temp[i].isna().sum())"
   ]
  },
  {
   "cell_type": "code",
   "execution_count": 68,
   "id": "8977c4d7",
   "metadata": {},
   "outputs": [],
   "source": [
    "# Excluindo valores NA \n",
    "df_temp.dropna(subset=list_clean, inplace=True)"
   ]
  },
  {
   "cell_type": "code",
   "execution_count": 69,
   "id": "b295c803",
   "metadata": {},
   "outputs": [
    {
     "data": {
      "text/plain": [
       "BBLE           0\n",
       "B              0\n",
       "BLOCK          0\n",
       "LOT            0\n",
       "OWNER          0\n",
       "BLDGCL         0\n",
       "TAXCLASS       0\n",
       "LTFRONT        0\n",
       "LTDEPTH        0\n",
       "STORIES        0\n",
       "FULLVAL        0\n",
       "AVLAND         0\n",
       "AVTOT          0\n",
       "EXLAND         0\n",
       "EXTOT          0\n",
       "STADDR         0\n",
       "ZIP         1217\n",
       "BLDFRONT       0\n",
       "BLDDEPTH       0\n",
       "PERIOD         0\n",
       "YEAR           0\n",
       "VALTYPE        0\n",
       "dtype: int64"
      ]
     },
     "execution_count": 69,
     "metadata": {},
     "output_type": "execute_result"
    }
   ],
   "source": [
    "# Checando resultado da exclusão\n",
    "df_temp.isna().sum()"
   ]
  },
  {
   "cell_type": "markdown",
   "id": "4845be20",
   "metadata": {},
   "source": [
    "### 3.2. Transformação dos Valores Ausentes da Variável ZIP"
   ]
  },
  {
   "cell_type": "code",
   "execution_count": 70,
   "id": "15ea7718",
   "metadata": {},
   "outputs": [
    {
     "data": {
      "text/plain": [
       "1217"
      ]
     },
     "execution_count": 70,
     "metadata": {},
     "output_type": "execute_result"
    }
   ],
   "source": [
    "# Contagem de valores ausentes\n",
    "df_temp['ZIP'].isna().sum()"
   ]
  },
  {
   "cell_type": "code",
   "execution_count": 71,
   "id": "1d797915",
   "metadata": {},
   "outputs": [],
   "source": [
    "# Vamos calcular o valor da variável zip que aparece com maior frequência (calcular a moda)\n",
    "# Se não houver nenhum valor de moda, substitua por 1\n",
    "def calcula_moda(x):\n",
    "    m = pd.Series.mode(x)\n",
    "    if m.empty:\n",
    "        x = np.array(range(1,11))\n",
    "        return x[0]\n",
    "    else:\n",
    "        return m.values[0]"
   ]
  },
  {
   "cell_type": "code",
   "execution_count": 72,
   "id": "44ec9663",
   "metadata": {},
   "outputs": [],
   "source": [
    "# Definindo a função de contagem para calcular a frequência do valor da moda de cada grupo (que vamos definir)\n",
    "def contagem(x):\n",
    "    return x.value_counts().head(1)"
   ]
  },
  {
   "cell_type": "code",
   "execution_count": 73,
   "id": "51db3ef4",
   "metadata": {},
   "outputs": [],
   "source": [
    "# Agrupando valores pela variável 'B' e 'BLOCK' e usando as duas funções acima para criar dataframe auxiliar\n",
    "# Teremos o valor da moda da variável ZIP para cada grupo com registros com as variáveis B e Block\n",
    "df_zip_group = df_temp.groupby(['B','BLOCK'])['ZIP'].agg(ZIP = calcula_moda, Count = contagem).reset_index()"
   ]
  },
  {
   "cell_type": "code",
   "execution_count": 74,
   "id": "0f08bea4",
   "metadata": {},
   "outputs": [
    {
     "data": {
      "text/html": [
       "<div>\n",
       "<style scoped>\n",
       "    .dataframe tbody tr th:only-of-type {\n",
       "        vertical-align: middle;\n",
       "    }\n",
       "\n",
       "    .dataframe tbody tr th {\n",
       "        vertical-align: top;\n",
       "    }\n",
       "\n",
       "    .dataframe thead th {\n",
       "        text-align: right;\n",
       "    }\n",
       "</style>\n",
       "<table border=\"1\" class=\"dataframe\">\n",
       "  <thead>\n",
       "    <tr style=\"text-align: right;\">\n",
       "      <th></th>\n",
       "      <th>B</th>\n",
       "      <th>BLOCK</th>\n",
       "      <th>ZIP</th>\n",
       "      <th>Count</th>\n",
       "    </tr>\n",
       "  </thead>\n",
       "  <tbody>\n",
       "    <tr>\n",
       "      <th>0</th>\n",
       "      <td>1</td>\n",
       "      <td>2</td>\n",
       "      <td>10004.00</td>\n",
       "      <td>2</td>\n",
       "    </tr>\n",
       "    <tr>\n",
       "      <th>1</th>\n",
       "      <td>1</td>\n",
       "      <td>3</td>\n",
       "      <td>10004.00</td>\n",
       "      <td>3</td>\n",
       "    </tr>\n",
       "    <tr>\n",
       "      <th>2</th>\n",
       "      <td>1</td>\n",
       "      <td>4</td>\n",
       "      <td>10004.00</td>\n",
       "      <td>52</td>\n",
       "    </tr>\n",
       "    <tr>\n",
       "      <th>3</th>\n",
       "      <td>1</td>\n",
       "      <td>5</td>\n",
       "      <td>10004.00</td>\n",
       "      <td>5</td>\n",
       "    </tr>\n",
       "    <tr>\n",
       "      <th>4</th>\n",
       "      <td>1</td>\n",
       "      <td>7</td>\n",
       "      <td>10004.00</td>\n",
       "      <td>12</td>\n",
       "    </tr>\n",
       "    <tr>\n",
       "      <th>5</th>\n",
       "      <td>1</td>\n",
       "      <td>8</td>\n",
       "      <td>10004.00</td>\n",
       "      <td>3</td>\n",
       "    </tr>\n",
       "    <tr>\n",
       "      <th>6</th>\n",
       "      <td>1</td>\n",
       "      <td>9</td>\n",
       "      <td>10004.00</td>\n",
       "      <td>4</td>\n",
       "    </tr>\n",
       "    <tr>\n",
       "      <th>7</th>\n",
       "      <td>1</td>\n",
       "      <td>10</td>\n",
       "      <td>10004.00</td>\n",
       "      <td>8</td>\n",
       "    </tr>\n",
       "    <tr>\n",
       "      <th>8</th>\n",
       "      <td>1</td>\n",
       "      <td>11</td>\n",
       "      <td>10004.00</td>\n",
       "      <td>13</td>\n",
       "    </tr>\n",
       "    <tr>\n",
       "      <th>9</th>\n",
       "      <td>1</td>\n",
       "      <td>12</td>\n",
       "      <td>10004.00</td>\n",
       "      <td>1</td>\n",
       "    </tr>\n",
       "    <tr>\n",
       "      <th>10</th>\n",
       "      <td>1</td>\n",
       "      <td>13</td>\n",
       "      <td>10004.00</td>\n",
       "      <td>3</td>\n",
       "    </tr>\n",
       "    <tr>\n",
       "      <th>11</th>\n",
       "      <td>1</td>\n",
       "      <td>15</td>\n",
       "      <td>10280.00</td>\n",
       "      <td>282</td>\n",
       "    </tr>\n",
       "    <tr>\n",
       "      <th>12</th>\n",
       "      <td>1</td>\n",
       "      <td>16</td>\n",
       "      <td>10280.00</td>\n",
       "      <td>2484</td>\n",
       "    </tr>\n",
       "    <tr>\n",
       "      <th>13</th>\n",
       "      <td>1</td>\n",
       "      <td>17</td>\n",
       "      <td>10006.00</td>\n",
       "      <td>17</td>\n",
       "    </tr>\n",
       "    <tr>\n",
       "      <th>14</th>\n",
       "      <td>1</td>\n",
       "      <td>18</td>\n",
       "      <td>10006.00</td>\n",
       "      <td>453</td>\n",
       "    </tr>\n",
       "  </tbody>\n",
       "</table>\n",
       "</div>"
      ],
      "text/plain": [
       "    B  BLOCK      ZIP Count\n",
       "0   1      2 10004.00     2\n",
       "1   1      3 10004.00     3\n",
       "2   1      4 10004.00    52\n",
       "3   1      5 10004.00     5\n",
       "4   1      7 10004.00    12\n",
       "5   1      8 10004.00     3\n",
       "6   1      9 10004.00     4\n",
       "7   1     10 10004.00     8\n",
       "8   1     11 10004.00    13\n",
       "9   1     12 10004.00     1\n",
       "10  1     13 10004.00     3\n",
       "11  1     15 10280.00   282\n",
       "12  1     16 10280.00  2484\n",
       "13  1     17 10006.00    17\n",
       "14  1     18 10006.00   453"
      ]
     },
     "execution_count": 74,
     "metadata": {},
     "output_type": "execute_result"
    }
   ],
   "source": [
    "# Verificando os 25 primeiros registros\n",
    "df_zip_group.head(15)"
   ]
  },
  {
   "cell_type": "code",
   "execution_count": 75,
   "id": "a979dc97",
   "metadata": {},
   "outputs": [],
   "source": [
    "# Definindo a função que preenche os registros com valor ZIP ausente por meio do dataframe auxiliar\n",
    "def preenche_moda(x):\n",
    "    if pd.isnull(x['ZIP']):\n",
    "        return df_zip_group[(df_zip_group['B'] == x['B']) & (df_zip_group['BLOCK'] == x['BLOCK'])]['ZIP'].values[0]\n",
    "    else:\n",
    "        return x['ZIP']"
   ]
  },
  {
   "cell_type": "code",
   "execution_count": 76,
   "id": "d121effa",
   "metadata": {},
   "outputs": [],
   "source": [
    "# Usando a função para preencher os valores ZIP ausentes\n",
    "df_temp['ZIP'] = df_temp.apply(preenche_moda, axis = 1)"
   ]
  },
  {
   "cell_type": "code",
   "execution_count": 77,
   "id": "afc8659d",
   "metadata": {},
   "outputs": [
    {
     "data": {
      "text/plain": [
       "0"
      ]
     },
     "execution_count": 77,
     "metadata": {},
     "output_type": "execute_result"
    }
   ],
   "source": [
    "# Verificando se há algum valor ZIP restante com valor NA\n",
    "df_temp['ZIP'].isna().sum()"
   ]
  },
  {
   "cell_type": "code",
   "execution_count": 78,
   "id": "573e459f",
   "metadata": {},
   "outputs": [
    {
     "data": {
      "text/plain": [
       "RECORD\n",
       "6147   10005.00\n",
       "6148   10005.00\n",
       "Name: ZIP, dtype: float64"
      ]
     },
     "execution_count": 78,
     "metadata": {},
     "output_type": "execute_result"
    }
   ],
   "source": [
    "# Verificando manualmente uma das ocorrências para checar se a fórmula funcionou corretamente\n",
    "df_temp[(df_temp['B']==1) & (df_temp['BLOCK']==38)]['ZIP']"
   ]
  },
  {
   "cell_type": "code",
   "execution_count": 79,
   "id": "b5c2845a",
   "metadata": {},
   "outputs": [
    {
     "data": {
      "text/plain": [
       "BBLE        0\n",
       "B           0\n",
       "BLOCK       0\n",
       "LOT         0\n",
       "OWNER       0\n",
       "BLDGCL      0\n",
       "TAXCLASS    0\n",
       "LTFRONT     0\n",
       "LTDEPTH     0\n",
       "STORIES     0\n",
       "FULLVAL     0\n",
       "AVLAND      0\n",
       "AVTOT       0\n",
       "EXLAND      0\n",
       "EXTOT       0\n",
       "STADDR      0\n",
       "ZIP         0\n",
       "BLDFRONT    0\n",
       "BLDDEPTH    0\n",
       "PERIOD      0\n",
       "YEAR        0\n",
       "VALTYPE     0\n",
       "dtype: int64"
      ]
     },
     "execution_count": 79,
     "metadata": {},
     "output_type": "execute_result"
    }
   ],
   "source": [
    "# Checando resultado da imputação no valores ZIP e eventuais impactos nas demais variaveis\n",
    "df_temp.isna().sum()"
   ]
  },
  {
   "cell_type": "code",
   "execution_count": 80,
   "id": "bf5e4591",
   "metadata": {},
   "outputs": [
    {
     "data": {
      "text/html": [
       "<div>\n",
       "<style scoped>\n",
       "    .dataframe tbody tr th:only-of-type {\n",
       "        vertical-align: middle;\n",
       "    }\n",
       "\n",
       "    .dataframe tbody tr th {\n",
       "        vertical-align: top;\n",
       "    }\n",
       "\n",
       "    .dataframe thead th {\n",
       "        text-align: right;\n",
       "    }\n",
       "</style>\n",
       "<table border=\"1\" class=\"dataframe\">\n",
       "  <thead>\n",
       "    <tr style=\"text-align: right;\">\n",
       "      <th></th>\n",
       "      <th>Tipo de Dado</th>\n",
       "      <th># Registros Não Nulos</th>\n",
       "      <th>% Populado</th>\n",
       "      <th># Valores Únicos</th>\n",
       "    </tr>\n",
       "  </thead>\n",
       "  <tbody>\n",
       "    <tr>\n",
       "      <th>BBLE</th>\n",
       "      <td>object</td>\n",
       "      <td>985951</td>\n",
       "      <td>100.00</td>\n",
       "      <td>985951</td>\n",
       "    </tr>\n",
       "    <tr>\n",
       "      <th>B</th>\n",
       "      <td>int64</td>\n",
       "      <td>985951</td>\n",
       "      <td>100.00</td>\n",
       "      <td>5</td>\n",
       "    </tr>\n",
       "    <tr>\n",
       "      <th>YEAR</th>\n",
       "      <td>object</td>\n",
       "      <td>985951</td>\n",
       "      <td>100.00</td>\n",
       "      <td>1</td>\n",
       "    </tr>\n",
       "    <tr>\n",
       "      <th>PERIOD</th>\n",
       "      <td>object</td>\n",
       "      <td>985951</td>\n",
       "      <td>100.00</td>\n",
       "      <td>1</td>\n",
       "    </tr>\n",
       "    <tr>\n",
       "      <th>BLDDEPTH</th>\n",
       "      <td>int64</td>\n",
       "      <td>985951</td>\n",
       "      <td>100.00</td>\n",
       "      <td>618</td>\n",
       "    </tr>\n",
       "    <tr>\n",
       "      <th>BLDFRONT</th>\n",
       "      <td>int64</td>\n",
       "      <td>985951</td>\n",
       "      <td>100.00</td>\n",
       "      <td>610</td>\n",
       "    </tr>\n",
       "    <tr>\n",
       "      <th>ZIP</th>\n",
       "      <td>float64</td>\n",
       "      <td>985951</td>\n",
       "      <td>100.00</td>\n",
       "      <td>194</td>\n",
       "    </tr>\n",
       "    <tr>\n",
       "      <th>STADDR</th>\n",
       "      <td>object</td>\n",
       "      <td>985951</td>\n",
       "      <td>100.00</td>\n",
       "      <td>815655</td>\n",
       "    </tr>\n",
       "    <tr>\n",
       "      <th>EXTOT</th>\n",
       "      <td>float64</td>\n",
       "      <td>985951</td>\n",
       "      <td>100.00</td>\n",
       "      <td>59005</td>\n",
       "    </tr>\n",
       "    <tr>\n",
       "      <th>EXLAND</th>\n",
       "      <td>float64</td>\n",
       "      <td>985951</td>\n",
       "      <td>100.00</td>\n",
       "      <td>31041</td>\n",
       "    </tr>\n",
       "    <tr>\n",
       "      <th>AVTOT</th>\n",
       "      <td>float64</td>\n",
       "      <td>985951</td>\n",
       "      <td>100.00</td>\n",
       "      <td>101913</td>\n",
       "    </tr>\n",
       "    <tr>\n",
       "      <th>AVLAND</th>\n",
       "      <td>float64</td>\n",
       "      <td>985951</td>\n",
       "      <td>100.00</td>\n",
       "      <td>64744</td>\n",
       "    </tr>\n",
       "    <tr>\n",
       "      <th>FULLVAL</th>\n",
       "      <td>float64</td>\n",
       "      <td>985951</td>\n",
       "      <td>100.00</td>\n",
       "      <td>88259</td>\n",
       "    </tr>\n",
       "    <tr>\n",
       "      <th>STORIES</th>\n",
       "      <td>float64</td>\n",
       "      <td>985951</td>\n",
       "      <td>100.00</td>\n",
       "      <td>110</td>\n",
       "    </tr>\n",
       "    <tr>\n",
       "      <th>LTDEPTH</th>\n",
       "      <td>int64</td>\n",
       "      <td>985951</td>\n",
       "      <td>100.00</td>\n",
       "      <td>1083</td>\n",
       "    </tr>\n",
       "    <tr>\n",
       "      <th>LTFRONT</th>\n",
       "      <td>int64</td>\n",
       "      <td>985951</td>\n",
       "      <td>100.00</td>\n",
       "      <td>1071</td>\n",
       "    </tr>\n",
       "    <tr>\n",
       "      <th>TAXCLASS</th>\n",
       "      <td>object</td>\n",
       "      <td>985951</td>\n",
       "      <td>100.00</td>\n",
       "      <td>11</td>\n",
       "    </tr>\n",
       "    <tr>\n",
       "      <th>BLDGCL</th>\n",
       "      <td>object</td>\n",
       "      <td>985951</td>\n",
       "      <td>100.00</td>\n",
       "      <td>186</td>\n",
       "    </tr>\n",
       "    <tr>\n",
       "      <th>OWNER</th>\n",
       "      <td>object</td>\n",
       "      <td>985951</td>\n",
       "      <td>100.00</td>\n",
       "      <td>847158</td>\n",
       "    </tr>\n",
       "    <tr>\n",
       "      <th>LOT</th>\n",
       "      <td>int64</td>\n",
       "      <td>985951</td>\n",
       "      <td>100.00</td>\n",
       "      <td>6251</td>\n",
       "    </tr>\n",
       "    <tr>\n",
       "      <th>BLOCK</th>\n",
       "      <td>int64</td>\n",
       "      <td>985951</td>\n",
       "      <td>100.00</td>\n",
       "      <td>13750</td>\n",
       "    </tr>\n",
       "    <tr>\n",
       "      <th>VALTYPE</th>\n",
       "      <td>object</td>\n",
       "      <td>985951</td>\n",
       "      <td>100.00</td>\n",
       "      <td>1</td>\n",
       "    </tr>\n",
       "  </tbody>\n",
       "</table>\n",
       "</div>"
      ],
      "text/plain": [
       "         Tipo de Dado  # Registros Não Nulos  % Populado  # Valores Únicos\n",
       "BBLE           object                 985951      100.00            985951\n",
       "B               int64                 985951      100.00                 5\n",
       "YEAR           object                 985951      100.00                 1\n",
       "PERIOD         object                 985951      100.00                 1\n",
       "BLDDEPTH        int64                 985951      100.00               618\n",
       "BLDFRONT        int64                 985951      100.00               610\n",
       "ZIP           float64                 985951      100.00               194\n",
       "STADDR         object                 985951      100.00            815655\n",
       "EXTOT         float64                 985951      100.00             59005\n",
       "EXLAND        float64                 985951      100.00             31041\n",
       "AVTOT         float64                 985951      100.00            101913\n",
       "AVLAND        float64                 985951      100.00             64744\n",
       "FULLVAL       float64                 985951      100.00             88259\n",
       "STORIES       float64                 985951      100.00               110\n",
       "LTDEPTH         int64                 985951      100.00              1083\n",
       "LTFRONT         int64                 985951      100.00              1071\n",
       "TAXCLASS       object                 985951      100.00                11\n",
       "BLDGCL         object                 985951      100.00               186\n",
       "OWNER          object                 985951      100.00            847158\n",
       "LOT             int64                 985951      100.00              6251\n",
       "BLOCK           int64                 985951      100.00             13750\n",
       "VALTYPE        object                 985951      100.00                 1"
      ]
     },
     "execution_count": 80,
     "metadata": {},
     "output_type": "execute_result"
    }
   ],
   "source": [
    "# % Sumário das variáveis apos data munging/wrangling\n",
    "summ_df = pd.DataFrame(index = df_temp.columns)\n",
    "summ_df['Tipo de Dado'] = df_temp.dtypes.values\n",
    "summ_df['# Registros Não Nulos'] = df_temp.count().values\n",
    "summ_df['% Populado'] = round(summ_df['# Registros Não Nulos'] / df_temp.shape[0]*100,2)\n",
    "summ_df['# Valores Únicos'] = df_temp.nunique().values\n",
    "summ_df.sort_values(by=['% Populado'], ascending=False)"
   ]
  },
  {
   "cell_type": "code",
   "execution_count": 81,
   "id": "26ac656e",
   "metadata": {},
   "outputs": [],
   "source": [
    "# Colunas numéricas (quantitativas)\n",
    "num_cols2 = ['LTFRONT', 'LTDEPTH', 'STORIES', 'FULLVAL', 'AVLAND', 'AVTOT', 'EXLAND', 'EXTOT', 'BLDFRONT', 'BLDDEPTH']"
   ]
  },
  {
   "cell_type": "code",
   "execution_count": 82,
   "id": "5da8f26e",
   "metadata": {},
   "outputs": [],
   "source": [
    "# Colunas categóricas\n",
    "cat_cols2 = ['BBLE', 'B', 'BLOCK', 'LOT', 'OWNER', 'BLDGCL', 'TAXCLASS', 'STADDR', 'ZIP', 'PERIOD', 'YEAR', 'VALTYPE']"
   ]
  },
  {
   "cell_type": "code",
   "execution_count": 83,
   "id": "10cb8616",
   "metadata": {},
   "outputs": [],
   "source": [
    "# Dataframes com os tipos diferentes de variáveis\n",
    "df_num = df_temp[num_cols2]\n",
    "df_cat = df_temp[cat_cols2]"
   ]
  },
  {
   "cell_type": "code",
   "execution_count": 84,
   "id": "8a5d4c63",
   "metadata": {},
   "outputs": [
    {
     "data": {
      "text/html": [
       "<div>\n",
       "<style scoped>\n",
       "    .dataframe tbody tr th:only-of-type {\n",
       "        vertical-align: middle;\n",
       "    }\n",
       "\n",
       "    .dataframe tbody tr th {\n",
       "        vertical-align: top;\n",
       "    }\n",
       "\n",
       "    .dataframe thead th {\n",
       "        text-align: right;\n",
       "    }\n",
       "</style>\n",
       "<table border=\"1\" class=\"dataframe\">\n",
       "  <thead>\n",
       "    <tr style=\"text-align: right;\">\n",
       "      <th></th>\n",
       "      <th>Tipo de Dado</th>\n",
       "      <th># Registros Não Nulos</th>\n",
       "      <th># Registros Não Zero</th>\n",
       "      <th>% Populado</th>\n",
       "      <th># Valores Únicos</th>\n",
       "      <th>Mean</th>\n",
       "      <th>Std</th>\n",
       "      <th>Min</th>\n",
       "      <th>Max</th>\n",
       "    </tr>\n",
       "  </thead>\n",
       "  <tbody>\n",
       "    <tr>\n",
       "      <th>LTFRONT</th>\n",
       "      <td>int64</td>\n",
       "      <td>985951</td>\n",
       "      <td>840595</td>\n",
       "      <td>100.00</td>\n",
       "      <td>1071</td>\n",
       "      <td>35.07</td>\n",
       "      <td>58.72</td>\n",
       "      <td>0.00</td>\n",
       "      <td>9999.00</td>\n",
       "    </tr>\n",
       "    <tr>\n",
       "      <th>LTDEPTH</th>\n",
       "      <td>int64</td>\n",
       "      <td>985951</td>\n",
       "      <td>839427</td>\n",
       "      <td>100.00</td>\n",
       "      <td>1083</td>\n",
       "      <td>88.40</td>\n",
       "      <td>62.10</td>\n",
       "      <td>0.00</td>\n",
       "      <td>9999.00</td>\n",
       "    </tr>\n",
       "    <tr>\n",
       "      <th>STORIES</th>\n",
       "      <td>float64</td>\n",
       "      <td>985951</td>\n",
       "      <td>985951</td>\n",
       "      <td>100.00</td>\n",
       "      <td>110</td>\n",
       "      <td>4.83</td>\n",
       "      <td>8.20</td>\n",
       "      <td>1.00</td>\n",
       "      <td>119.00</td>\n",
       "    </tr>\n",
       "    <tr>\n",
       "      <th>FULLVAL</th>\n",
       "      <td>float64</td>\n",
       "      <td>985951</td>\n",
       "      <td>983907</td>\n",
       "      <td>100.00</td>\n",
       "      <td>88259</td>\n",
       "      <td>880209.45</td>\n",
       "      <td>8447777.04</td>\n",
       "      <td>0.00</td>\n",
       "      <td>5279000000.00</td>\n",
       "    </tr>\n",
       "    <tr>\n",
       "      <th>AVLAND</th>\n",
       "      <td>float64</td>\n",
       "      <td>985951</td>\n",
       "      <td>983905</td>\n",
       "      <td>100.00</td>\n",
       "      <td>64744</td>\n",
       "      <td>74632.22</td>\n",
       "      <td>2154894.62</td>\n",
       "      <td>0.00</td>\n",
       "      <td>1792808947.00</td>\n",
       "    </tr>\n",
       "    <tr>\n",
       "      <th>AVTOT</th>\n",
       "      <td>float64</td>\n",
       "      <td>985951</td>\n",
       "      <td>983907</td>\n",
       "      <td>100.00</td>\n",
       "      <td>101913</td>\n",
       "      <td>222557.84</td>\n",
       "      <td>6041959.47</td>\n",
       "      <td>0.00</td>\n",
       "      <td>4668308947.00</td>\n",
       "    </tr>\n",
       "    <tr>\n",
       "      <th>EXLAND</th>\n",
       "      <td>float64</td>\n",
       "      <td>985951</td>\n",
       "      <td>561670</td>\n",
       "      <td>100.00</td>\n",
       "      <td>31041</td>\n",
       "      <td>25537.94</td>\n",
       "      <td>1999998.95</td>\n",
       "      <td>0.00</td>\n",
       "      <td>1792808947.00</td>\n",
       "    </tr>\n",
       "    <tr>\n",
       "      <th>EXTOT</th>\n",
       "      <td>float64</td>\n",
       "      <td>985951</td>\n",
       "      <td>617183</td>\n",
       "      <td>100.00</td>\n",
       "      <td>59005</td>\n",
       "      <td>80659.55</td>\n",
       "      <td>5590524.17</td>\n",
       "      <td>0.00</td>\n",
       "      <td>4668308947.00</td>\n",
       "    </tr>\n",
       "    <tr>\n",
       "      <th>BLDFRONT</th>\n",
       "      <td>int64</td>\n",
       "      <td>985951</td>\n",
       "      <td>830600</td>\n",
       "      <td>100.00</td>\n",
       "      <td>610</td>\n",
       "      <td>24.28</td>\n",
       "      <td>35.72</td>\n",
       "      <td>0.00</td>\n",
       "      <td>7575.00</td>\n",
       "    </tr>\n",
       "    <tr>\n",
       "      <th>BLDDEPTH</th>\n",
       "      <td>int64</td>\n",
       "      <td>985951</td>\n",
       "      <td>830586</td>\n",
       "      <td>100.00</td>\n",
       "      <td>618</td>\n",
       "      <td>42.37</td>\n",
       "      <td>41.73</td>\n",
       "      <td>0.00</td>\n",
       "      <td>9393.00</td>\n",
       "    </tr>\n",
       "  </tbody>\n",
       "</table>\n",
       "</div>"
      ],
      "text/plain": [
       "         Tipo de Dado  # Registros Não Nulos  # Registros Não Zero  \\\n",
       "LTFRONT         int64                 985951                840595   \n",
       "LTDEPTH         int64                 985951                839427   \n",
       "STORIES       float64                 985951                985951   \n",
       "FULLVAL       float64                 985951                983907   \n",
       "AVLAND        float64                 985951                983905   \n",
       "AVTOT         float64                 985951                983907   \n",
       "EXLAND        float64                 985951                561670   \n",
       "EXTOT         float64                 985951                617183   \n",
       "BLDFRONT        int64                 985951                830600   \n",
       "BLDDEPTH        int64                 985951                830586   \n",
       "\n",
       "          % Populado  # Valores Únicos      Mean        Std  Min           Max  \n",
       "LTFRONT       100.00              1071     35.07      58.72 0.00       9999.00  \n",
       "LTDEPTH       100.00              1083     88.40      62.10 0.00       9999.00  \n",
       "STORIES       100.00               110      4.83       8.20 1.00        119.00  \n",
       "FULLVAL       100.00             88259 880209.45 8447777.04 0.00 5279000000.00  \n",
       "AVLAND        100.00             64744  74632.22 2154894.62 0.00 1792808947.00  \n",
       "AVTOT         100.00            101913 222557.84 6041959.47 0.00 4668308947.00  \n",
       "EXLAND        100.00             31041  25537.94 1999998.95 0.00 1792808947.00  \n",
       "EXTOT         100.00             59005  80659.55 5590524.17 0.00 4668308947.00  \n",
       "BLDFRONT      100.00               610     24.28      35.72 0.00       7575.00  \n",
       "BLDDEPTH      100.00               618     42.37      41.73 0.00       9393.00  "
      ]
     },
     "execution_count": 84,
     "metadata": {},
     "output_type": "execute_result"
    }
   ],
   "source": [
    "# Sumário estatístico final das variáveis numéricas\n",
    "summ_num2 = pd.DataFrame(index = df_num.columns)\n",
    "summ_num2['Tipo de Dado'] = df_num.dtypes.values\n",
    "summ_num2['# Registros Não Nulos'] = df_num.count().values\n",
    "summ_num2['# Registros Não Zero'] = df_num.astype(bool).sum(axis = 0)\n",
    "summ_num2['% Populado'] = round(summ_num2['# Registros Não Nulos'] / df_num.shape[0]*100,2)\n",
    "summ_num2['# Valores Únicos'] = df_num.nunique().values\n",
    "summ_num2['Mean'] = round(df_num.mean(),2)\n",
    "summ_num2['Std'] = round(df_num.std(),2)\n",
    "summ_num2['Min'] = round(df_num.min(),2)\n",
    "summ_num2['Max'] = round(df_num.max(),2)\n",
    "summ_num2.sort_values(by=['% Populado'], ascending=False)"
   ]
  },
  {
   "cell_type": "code",
   "execution_count": 85,
   "id": "8ead0a6e",
   "metadata": {},
   "outputs": [],
   "source": [
    "# Sumário estatístico final das variáveis categóricas\n",
    "summ_cat2 = pd.DataFrame(index = df_cat.columns)\n",
    "summ_cat2['Tipo de Dado'] = df_cat.dtypes.values\n",
    "summ_cat2['# Registros Não Nulos'] = df_cat.count().values\n",
    "summ_cat2['% Populado'] = round(summ_cat2['# Registros Não Nulos'] / df_cat.shape[0]*100,2)\n",
    "summ_cat2['# Valores Únicos'] = df_cat.nunique().values"
   ]
  },
  {
   "cell_type": "code",
   "execution_count": 86,
   "id": "08f1e6a3",
   "metadata": {},
   "outputs": [],
   "source": [
    "# Adiciona mais uma coluna com valores mais comuns\n",
    "temp = []\n",
    "for col in cat_cols2:\n",
    "    temp.append(df_cat[col].value_counts().idxmax())\n",
    "summ_cat2['Valores Mais Comuns'] = temp"
   ]
  },
  {
   "cell_type": "code",
   "execution_count": 87,
   "id": "d9769ccb",
   "metadata": {},
   "outputs": [
    {
     "data": {
      "text/html": [
       "<div>\n",
       "<style scoped>\n",
       "    .dataframe tbody tr th:only-of-type {\n",
       "        vertical-align: middle;\n",
       "    }\n",
       "\n",
       "    .dataframe tbody tr th {\n",
       "        vertical-align: top;\n",
       "    }\n",
       "\n",
       "    .dataframe thead th {\n",
       "        text-align: right;\n",
       "    }\n",
       "</style>\n",
       "<table border=\"1\" class=\"dataframe\">\n",
       "  <thead>\n",
       "    <tr style=\"text-align: right;\">\n",
       "      <th></th>\n",
       "      <th>Tipo de Dado</th>\n",
       "      <th># Registros Não Nulos</th>\n",
       "      <th>% Populado</th>\n",
       "      <th># Valores Únicos</th>\n",
       "      <th>Valores Mais Comuns</th>\n",
       "    </tr>\n",
       "  </thead>\n",
       "  <tbody>\n",
       "    <tr>\n",
       "      <th>BBLE</th>\n",
       "      <td>object</td>\n",
       "      <td>985951</td>\n",
       "      <td>100.00</td>\n",
       "      <td>985951</td>\n",
       "      <td>2039443957</td>\n",
       "    </tr>\n",
       "    <tr>\n",
       "      <th>B</th>\n",
       "      <td>int64</td>\n",
       "      <td>985951</td>\n",
       "      <td>100.00</td>\n",
       "      <td>5</td>\n",
       "      <td>4</td>\n",
       "    </tr>\n",
       "    <tr>\n",
       "      <th>BLOCK</th>\n",
       "      <td>int64</td>\n",
       "      <td>985951</td>\n",
       "      <td>100.00</td>\n",
       "      <td>13750</td>\n",
       "      <td>3944</td>\n",
       "    </tr>\n",
       "    <tr>\n",
       "      <th>LOT</th>\n",
       "      <td>int64</td>\n",
       "      <td>985951</td>\n",
       "      <td>100.00</td>\n",
       "      <td>6251</td>\n",
       "      <td>1</td>\n",
       "    </tr>\n",
       "    <tr>\n",
       "      <th>OWNER</th>\n",
       "      <td>object</td>\n",
       "      <td>985951</td>\n",
       "      <td>100.00</td>\n",
       "      <td>847158</td>\n",
       "      <td>PARKCHESTER PRESERVAT</td>\n",
       "    </tr>\n",
       "    <tr>\n",
       "      <th>BLDGCL</th>\n",
       "      <td>object</td>\n",
       "      <td>985951</td>\n",
       "      <td>100.00</td>\n",
       "      <td>186</td>\n",
       "      <td>R4</td>\n",
       "    </tr>\n",
       "    <tr>\n",
       "      <th>TAXCLASS</th>\n",
       "      <td>object</td>\n",
       "      <td>985951</td>\n",
       "      <td>100.00</td>\n",
       "      <td>11</td>\n",
       "      <td>1</td>\n",
       "    </tr>\n",
       "    <tr>\n",
       "      <th>STADDR</th>\n",
       "      <td>object</td>\n",
       "      <td>985951</td>\n",
       "      <td>100.00</td>\n",
       "      <td>815655</td>\n",
       "      <td>501 SURF AVENUE</td>\n",
       "    </tr>\n",
       "    <tr>\n",
       "      <th>ZIP</th>\n",
       "      <td>float64</td>\n",
       "      <td>985951</td>\n",
       "      <td>100.00</td>\n",
       "      <td>194</td>\n",
       "      <td>10314.0</td>\n",
       "    </tr>\n",
       "    <tr>\n",
       "      <th>PERIOD</th>\n",
       "      <td>object</td>\n",
       "      <td>985951</td>\n",
       "      <td>100.00</td>\n",
       "      <td>1</td>\n",
       "      <td>FINAL</td>\n",
       "    </tr>\n",
       "    <tr>\n",
       "      <th>YEAR</th>\n",
       "      <td>object</td>\n",
       "      <td>985951</td>\n",
       "      <td>100.00</td>\n",
       "      <td>1</td>\n",
       "      <td>2010/11</td>\n",
       "    </tr>\n",
       "    <tr>\n",
       "      <th>VALTYPE</th>\n",
       "      <td>object</td>\n",
       "      <td>985951</td>\n",
       "      <td>100.00</td>\n",
       "      <td>1</td>\n",
       "      <td>AC-TR</td>\n",
       "    </tr>\n",
       "  </tbody>\n",
       "</table>\n",
       "</div>"
      ],
      "text/plain": [
       "         Tipo de Dado  # Registros Não Nulos  % Populado  # Valores Únicos  \\\n",
       "BBLE           object                 985951      100.00            985951   \n",
       "B               int64                 985951      100.00                 5   \n",
       "BLOCK           int64                 985951      100.00             13750   \n",
       "LOT             int64                 985951      100.00              6251   \n",
       "OWNER          object                 985951      100.00            847158   \n",
       "BLDGCL         object                 985951      100.00               186   \n",
       "TAXCLASS       object                 985951      100.00                11   \n",
       "STADDR         object                 985951      100.00            815655   \n",
       "ZIP           float64                 985951      100.00               194   \n",
       "PERIOD         object                 985951      100.00                 1   \n",
       "YEAR           object                 985951      100.00                 1   \n",
       "VALTYPE        object                 985951      100.00                 1   \n",
       "\n",
       "            Valores Mais Comuns  \n",
       "BBLE                 2039443957  \n",
       "B                             4  \n",
       "BLOCK                      3944  \n",
       "LOT                           1  \n",
       "OWNER     PARKCHESTER PRESERVAT  \n",
       "BLDGCL                       R4  \n",
       "TAXCLASS                      1  \n",
       "STADDR          501 SURF AVENUE  \n",
       "ZIP                     10314.0  \n",
       "PERIOD                    FINAL  \n",
       "YEAR                    2010/11  \n",
       "VALTYPE                   AC-TR  "
      ]
     },
     "execution_count": 87,
     "metadata": {},
     "output_type": "execute_result"
    }
   ],
   "source": [
    "summ_cat2.sort_values(by=['% Populado'], ascending=False)"
   ]
  },
  {
   "cell_type": "code",
   "execution_count": 88,
   "id": "1ecb8e1c",
   "metadata": {},
   "outputs": [],
   "source": [
    "# Salvando o dataframe resultante em disco\n",
    "df_temp.to_csv('dados/dataset_zip_limpo.csv')"
   ]
  },
  {
   "cell_type": "markdown",
   "id": "b4d7c1b8",
   "metadata": {},
   "source": [
    "## 4. Conclusão"
   ]
  },
  {
   "cell_type": "markdown",
   "id": "24517596",
   "metadata": {},
   "source": [
    "Sim, a quantidade de variáveis disponíveis no DataSet bem como seus respectivos preenchimentos permitem seu uso em modelos de previsão de fraudes e valor do imóvel, desde que realizada ações de limpeza e transformação em parte dados conforme exemplificamos."
   ]
  },
  {
   "cell_type": "markdown",
   "id": "173360a9",
   "metadata": {},
   "source": [
    "## Entre em Contato!"
   ]
  },
  {
   "cell_type": "markdown",
   "id": "020b4c89",
   "metadata": {},
   "source": [
    "Caso tenha alguma dúvida ou sugestão, entre em contato."
   ]
  },
  {
   "cell_type": "markdown",
   "id": "2af0d41b",
   "metadata": {},
   "source": [
    "|Github |Linkedin|E-mail|\n",
    "|:-----|:----:|----:|\n",
    "|[![Img Alt Text](https://icongr.am/devicon/github-original.svg?size=25&color=currentColor)](https://github.com/th14g0cust0d10) |[![Img Alt Text](https://icongr.am/devicon/linkedin-plain.svg?size=25&color=currentColor)](https://www.linkedin.com/in/thiago-custodio/) |[![Img Alt Text](https://icongr.am/fontawesome/envelope.svg?size=25&color=currentColor)](mailto:th14g0cust0d10@gmail.com) |\n"
   ]
  }
 ],
 "metadata": {
  "kernelspec": {
   "display_name": "Python 3",
   "language": "python",
   "name": "python3"
  },
  "language_info": {
   "codemirror_mode": {
    "name": "ipython",
    "version": 3
   },
   "file_extension": ".py",
   "mimetype": "text/x-python",
   "name": "python",
   "nbconvert_exporter": "python",
   "pygments_lexer": "ipython3",
   "version": "3.8.8"
  }
 },
 "nbformat": 4,
 "nbformat_minor": 5
}
